{
 "cells": [
  {
   "cell_type": "markdown",
   "metadata": {},
   "source": [
    "A quick recap of DAY2 discussions:\n",
    "- Control statements\n",
    "     - If... elif... else:<br>\n",
    "      If (condition is met):<br>\n",
    "        (perform operation)<br>\n",
    "     elif (another condition is met):<br>\n",
    "         (perform another operation)<br>\n",
    "             ...\n",
    "     else:              # that is, if none of the conditions stated above was met<br>\n",
    "         (perform this final operation)<br>\n",
    "\n",
    "     - For...<br>\n",
    "     for (range of values or valid conditions):<br>\n",
    "         (perform operation)<br>\n",
    "\n",
    "     - While...<br>\n",
    "     While (condition remains valid):<br>\n",
    "     (perform operation)\n",
    " \n",
    "- Python List, Dictionaries and Sets"
   ]
  },
  {
   "cell_type": "markdown",
   "metadata": {},
   "source": [
    "# ..................................................................................\n",
    "### Monday, 13th April, 2020\n",
    "# ..................................................................................\n"
   ]
  },
  {
   "cell_type": "markdown",
   "metadata": {},
   "source": [
    "####  Functions, Lambda Expressions, Time and DateTime in Python\n",
    "- Functions in Python \n",
    "    - Defining a function \n",
    "    - Passing Arguments\n",
    "    - Return values\n",
    "    - Passing a list\n",
    "    - Passing an arbitrary number of arguments \n",
    "    - Storing your functions in Modules, styling functions.\n",
    "- Lambda Expressions\n",
    "- Time and DateTime in Python \n"
   ]
  },
  {
   "cell_type": "markdown",
   "metadata": {},
   "source": [
    "### Functions"
   ]
  },
  {
   "cell_type": "markdown",
   "metadata": {},
   "source": [
    "#### Defining a Function: Syntax\n",
    "def <function_name>(optional paramenters/input(s)):\n",
    "    \n",
    "    statement1\n",
    "    statement2\n",
    "        :\n",
    "        :\n",
    "    statementn\n",
    "    \n",
    "#### Optional input"
   ]
  },
  {
   "cell_type": "code",
   "execution_count": 2,
   "metadata": {},
   "outputs": [
    {
     "name": "stdout",
     "output_type": "stream",
     "text": [
      "Hello Stranger\n",
      "This is a python function\n"
     ]
    }
   ],
   "source": [
    "def func_py():\n",
    "    print('This is a python function')\n",
    "    \n",
    "def greet():\n",
    "    print('Hello Stranger')\n",
    "\n",
    "#Function call\n",
    "greet()\n",
    "func_py()\n"
   ]
  },
  {
   "cell_type": "markdown",
   "metadata": {},
   "source": [
    "#### Passing Parameters / Arguments\n",
    "Data / Information can be passed as parameters into a function.\n",
    "\n",
    "Parameters are specified inside the parentheses after the function name. Multiple parameters are separated with comma.\n",
    "\n",
    "Arguments: are specified inside the parenthesis whenever a function is called\n"
   ]
  },
  {
   "cell_type": "code",
   "execution_count": 3,
   "metadata": {},
   "outputs": [
    {
     "name": "stdout",
     "output_type": "stream",
     "text": [
      "Hello  Jane\n",
      "Hello  Alex\n"
     ]
    }
   ],
   "source": [
    "#One parameter\n",
    "def greet1(name):\n",
    "    print('Hello ', name)\n",
    "    \n",
    "\n",
    "#Function call with an argument\n",
    "greet1('Jane')\n",
    "greet1('Alex')\n"
   ]
  },
  {
   "cell_type": "code",
   "execution_count": 4,
   "metadata": {},
   "outputs": [
    {
     "name": "stdout",
     "output_type": "stream",
     "text": [
      "What's up bro? Good to see you,  Adedeji\n",
      "Hello lady, how are you doing Victoria?\n"
     ]
    }
   ],
   "source": [
    "#Multiple Parameters\n",
    "\n",
    "#Function to greet a person with an identified gender\n",
    "def greet2(name, gender):\n",
    "    if gender in ['Male', 'M', 'm', 'male', 'MALE']:\n",
    "        print(\"What's up bro? Good to see you, \", name)\n",
    "    else:\n",
    "        print('Hello lady, how are you doing %s?' %name)\n",
    "        \n",
    "greet2('Adedeji', 'm')\n",
    "greet2('Victoria', 'f')"
   ]
  },
  {
   "cell_type": "code",
   "execution_count": 5,
   "metadata": {},
   "outputs": [
    {
     "name": "stdout",
     "output_type": "stream",
     "text": [
      "The area of a circle with radius 23.000000cm is 1661.902514cm2\n"
     ]
    }
   ],
   "source": [
    "def area_circle(radius):\n",
    "    '''\n",
    "    This function calculates the area of a circle given its radius\n",
    "    input: Radius of the circle\n",
    "    Output: Area of the circle\n",
    "    '''\n",
    "    import math\n",
    "    area = math.pi * radius**2\n",
    "    print('The area of a circle with radius %fcm is %fcm2' %(radius, area))\n",
    "\n",
    "#function call\n",
    "area_circle(23)"
   ]
  },
  {
   "cell_type": "code",
   "execution_count": 7,
   "metadata": {},
   "outputs": [
    {
     "data": {
      "text/plain": [
       "10"
      ]
     },
     "execution_count": 7,
     "metadata": {},
     "output_type": "execute_result"
    }
   ],
   "source": [
    "def add(a, b):\n",
    "    '''\n",
    "    This function adds two given numbers\n",
    "    inputs: number1, number2\n",
    "    output: A print statement of the addition of the inputs\n",
    "    '''\n",
    "    return (a+b)\n",
    "\n",
    "#function call\n",
    "add(4, 6)"
   ]
  },
  {
   "cell_type": "markdown",
   "metadata": {},
   "source": [
    "### Parsing a list, Dictionary, tuple, set and other data structure\n",
    "The value of a parameter can as well be specified in the function definition. However, the value can be subjected to change in the function call"
   ]
  },
  {
   "cell_type": "code",
   "execution_count": 7,
   "metadata": {},
   "outputs": [
    {
     "name": "stdout",
     "output_type": "stream",
     "text": [
      "Toyota\n",
      "Ford\n",
      "Honda\n"
     ]
    }
   ],
   "source": [
    "#Passing a python function that print out all cars in list of cars \n",
    "def my_function(carlist):\n",
    "    for car in carlist:\n",
    "        print(car)\n",
    "\n",
    "List_of_cars = [\"Toyota\", \"Ford\", \"Honda\"]\n",
    "\n",
    "my_function(List_of_cars)"
   ]
  },
  {
   "cell_type": "code",
   "execution_count": 8,
   "metadata": {},
   "outputs": [
    {
     "name": "stdout",
     "output_type": "stream",
     "text": [
      "The Qty of Math is 4\n",
      "The Qty of English is 5\n",
      "The Qty of Pysics is 8\n"
     ]
    }
   ],
   "source": [
    "#Passing a dictionary as a parameter\n",
    "\n",
    "def Book_Stock_func(Books):\n",
    "    for book, Quantity in Books.items():\n",
    "    \n",
    "        print(\"The Qty of {0} is {1}\".format(book, Quantity))\n",
    "\n",
    "\n",
    "#creating a dictionary    \n",
    "Dict_of_books = {\"Math\": 4, \"English\": 5 , \"Pysics\": 8} \n",
    "Book_Stock_func(Dict_of_books)"
   ]
  },
  {
   "cell_type": "markdown",
   "metadata": {},
   "source": [
    "### Parsing a value\n",
    "The value of a parameter can as well be specified in the function definition. However, the value can be subjected to change in the function call"
   ]
  },
  {
   "cell_type": "code",
   "execution_count": 9,
   "metadata": {},
   "outputs": [
    {
     "name": "stdout",
     "output_type": "stream",
     "text": [
      "Hello Adeleye, How are you?\n",
      "Hello Adeleye, Good morning!\n"
     ]
    }
   ],
   "source": [
    "# Python functions can also have default arguments which can be changed if the user inputs another, or retained if not\n",
    "\n",
    "def greet(name, msg = 'Good morning!'):\n",
    "    '''\n",
    "    This function greets a person with the user's greeting\n",
    "    If a greeting is not provided, it reverts to greeting\n",
    "    the person with the default message, Good morning\n",
    "    Inputs: name, mmessage (optional)\n",
    "    output: Print statement greeting user\n",
    "    '''\n",
    "    print('Hello %s, %s' %(name, msg))\n",
    "    \n",
    "greet('Adeleye', 'How are you?')\n",
    "greet('Adeleye')"
   ]
  },
  {
   "cell_type": "code",
   "execution_count": 10,
   "metadata": {
    "scrolled": true
   },
   "outputs": [
    {
     "name": "stdout",
     "output_type": "stream",
     "text": [
      "Hello , Good morning!\n"
     ]
    }
   ],
   "source": [
    "def greet(name = '', msg = 'Good morning!'):\n",
    "    '''\n",
    "    This is an extention of the greet function from above,\n",
    "    to permit the user call the function without any input\n",
    "    Inputs: name(optional), mmessage (optional)\n",
    "    output: Print statement greeting user\n",
    "    '''\n",
    "    print('Hello %s, %s' %(name, msg))\n",
    "greet()"
   ]
  },
  {
   "cell_type": "markdown",
   "metadata": {},
   "source": [
    "#### Passing an arbitrary number of arguments "
   ]
  },
  {
   "cell_type": "code",
   "execution_count": 14,
   "metadata": {},
   "outputs": [
    {
     "name": "stdout",
     "output_type": "stream",
     "text": [
      "Hello John\n",
      "Wait to see what it prints when given more names...\n",
      "Hello Monica\n",
      "Hello Luke\n",
      "Hello Steve\n",
      "Hello John\n"
     ]
    }
   ],
   "source": [
    "# Python functions also allow arbitrary arguments, where the function allows the user input more input but of the same type\n",
    "def greet(*names):\n",
    "    '''\n",
    "   This function greets all\n",
    "   the person in the names tuple\n",
    "   input: name(s)\n",
    "   output: Greeting to the respective name(s)\n",
    "   '''\n",
    "   # names is a tuple with arguments\n",
    "    for name in names:\n",
    "        print(\"Hello\",name)\n",
    "\n",
    "greet('John')\n",
    "\n",
    "print('Wait to see what it prints when given more names...')\n",
    "\n",
    "greet(\"Monica\",\"Luke\",\"Steve\",\"John\")"
   ]
  },
  {
   "cell_type": "code",
   "execution_count": 15,
   "metadata": {},
   "outputs": [
    {
     "name": "stdout",
     "output_type": "stream",
     "text": [
      "Wait to see what it prints when given more names...\n",
      "Hello Monica\n",
      "Hello Luke\n",
      "Hello Steve\n",
      "Hello John\n"
     ]
    }
   ],
   "source": [
    "# Adding one minute interval between greetings using time module\n",
    "import time\n",
    "\n",
    "def greet(*names):\n",
    "    '''\n",
    "   This function greets all\n",
    "   the person in the names tuple\n",
    "   input: name(s)\n",
    "   output: Greeting to the respective name(s)\n",
    "   '''\n",
    "   # names is a tuple with arguments\n",
    "    for name in names:\n",
    "        print(\"Hello\",name)\n",
    "        time.sleep(3)\n",
    "\n",
    "\n",
    "print('Wait to see what it prints when given more names...')\n",
    "\n",
    "greet(\"Monica\",\"Luke\",\"Steve\",\"John\")"
   ]
  },
  {
   "cell_type": "markdown",
   "metadata": {},
   "source": [
    "### Assignment 1\n",
    "Create a function that accepts your Surname and other names and output your full name"
   ]
  },
  {
   "cell_type": "markdown",
   "metadata": {},
   "source": [
    "### Assignment 2\n",
    "Create a function named Family_Age and pass the dictionary below:\n",
    "\n",
    "- Family_Age = {\"Father\":, 50, \"Mother\": 45, \"Daughter\": 25, \"Son\":20}"
   ]
  },
  {
   "cell_type": "markdown",
   "metadata": {},
   "source": [
    "#### Function variables\n",
    "- Global variables\n",
    "- Local variables <br>\n",
    "Before we go too deep into functions, it is important to note that variables used in functions STAY in the function unless they are declared as global variables in the function. This is because they are local to the function; hence, called local variables.\n",
    "However, variables used outside a function, can be used in a function within the same script because they are seen as global variables"
   ]
  },
  {
   "cell_type": "code",
   "execution_count": 16,
   "metadata": {},
   "outputs": [
    {
     "name": "stdout",
     "output_type": "stream",
     "text": [
      "100\n"
     ]
    },
    {
     "ename": "NameError",
     "evalue": "name 'c' is not defined",
     "output_type": "error",
     "traceback": [
      "\u001b[1;31m---------------------------------------------------------------------------\u001b[0m",
      "\u001b[1;31mNameError\u001b[0m                                 Traceback (most recent call last)",
      "\u001b[1;32m<ipython-input-16-9d0502c588ac>\u001b[0m in \u001b[0;36m<module>\u001b[1;34m\u001b[0m\n\u001b[0;32m     10\u001b[0m \u001b[1;33m\u001b[0m\u001b[0m\n\u001b[0;32m     11\u001b[0m \u001b[1;31m# c is declared in the function, but not returned, so it will not be seen outside the function\u001b[0m\u001b[1;33m\u001b[0m\u001b[1;33m\u001b[0m\u001b[1;33m\u001b[0m\u001b[0m\n\u001b[1;32m---> 12\u001b[1;33m \u001b[0mprint\u001b[0m\u001b[1;33m(\u001b[0m\u001b[0mc\u001b[0m\u001b[1;33m)\u001b[0m\u001b[1;33m\u001b[0m\u001b[1;33m\u001b[0m\u001b[0m\n\u001b[0m",
      "\u001b[1;31mNameError\u001b[0m: name 'c' is not defined"
     ]
    }
   ],
   "source": [
    "# Variables declared outside the function\n",
    "a = 8\n",
    "b = 12\n",
    "\n",
    "def association():\n",
    "    c = 5\n",
    "    print((a + b)*c)\n",
    "    \n",
    "association()\n",
    "\n",
    "# c is declared in the function, but not returned, so it will not be seen outside the function\n",
    "print(c)"
   ]
  },
  {
   "cell_type": "markdown",
   "metadata": {},
   "source": [
    "#### Making Local Variables Reusable Outside the Function"
   ]
  },
  {
   "cell_type": "code",
   "execution_count": 17,
   "metadata": {},
   "outputs": [
    {
     "name": "stdout",
     "output_type": "stream",
     "text": [
      "The square of 2 is 4, and the cube of 2 is 8\n",
      "Using local variables outside the function.......\n",
      "  4 + 8 is 12\n"
     ]
    }
   ],
   "source": [
    "def mul(a):\n",
    "    '''\n",
    "    This function gives the multiples of a number \n",
    "    Input: Number\n",
    "    Output: Number^2, Number^3\n",
    "    '''\n",
    "    global a_square\n",
    "    global a_cube\n",
    "    a_square = a**2\n",
    "    a_cube = a**3\n",
    "    print('The square of %d is %d, and the cube of %d is %d' %(a, a_square, a, a_cube))\n",
    "    #return a_square\n",
    "\n",
    "mul(2)\n",
    "\n",
    "print('Using local variables outside the function.......\\n ', a_square , '+', + a_cube, 'is', a_square + a_cube)\n"
   ]
  },
  {
   "cell_type": "code",
   "execution_count": 18,
   "metadata": {},
   "outputs": [
    {
     "name": "stdout",
     "output_type": "stream",
     "text": [
      "What number are you interested in? 6\n",
      "what range are you interested in? 7\n",
      "The multiples of 6 between 0 and 7 is [1, 6, 36, 216, 1296, 7776, 46656]\n",
      "Using local variables outside the function.......\n",
      " multiples of 6 between 0 and 7 is [1, 6, 36, 216, 1296, 7776, 46656]\n"
     ]
    }
   ],
   "source": [
    "def mult(a, a_range):\n",
    "    '''\n",
    "    This function gives the multiples of a number between a particular range\n",
    "    Input: Number\n",
    "    Output: Number^0, Number^1, Number^2, Number^a_range\n",
    "    '''\n",
    "    global a_mult\n",
    "    a_mult = [] #A list container to store the multiples  \n",
    "    for i in range(a_range):\n",
    "        a_mult.append(a**i)\n",
    "    print('The multiples of {} between 0 and {} is'.format(num, num_range), a_mult)\n",
    "\n",
    "\n",
    "#Main Program        \n",
    "num = int(input('What number are you interested in? ')) #The number whose multiples will be generated\n",
    "num_range = int(input('what range are you interested in? ')) #The range within which the number should be generated eg between 0-20\n",
    "\n",
    "mult(num, num_range) #Function call\n",
    "\n",
    "print('Using local variables outside the function.......\\n multiples of {} between 0 and {} is'.format(num, num_range), a_mult)\n"
   ]
  },
  {
   "cell_type": "markdown",
   "metadata": {},
   "source": [
    "### Lambda functions\n",
    "Python also allows the creation of anonymous functions<br>\n",
    "Lambda functions can have any number of arguments, but only one expression.\n",
    "This function is used when we need a nameless function for a short period of time.\n",
    "nameless in the sense that no variable used with lambda expression"
   ]
  },
  {
   "cell_type": "code",
   "execution_count": 36,
   "metadata": {},
   "outputs": [
    {
     "name": "stdout",
     "output_type": "stream",
     "text": [
      "x^2 =  10\n",
      "..................Now to the combination of filter and lambda........................\n",
      "[4, 6, 8, 12]\n"
     ]
    }
   ],
   "source": [
    "# An anonymous function to double the given number\n",
    "double = lambda x: x * 2\n",
    "print('x^2 = ', double(5))\n",
    "\n",
    "'''The lambda function can be used with an in-built python function called filter\n",
    "The filter function takes in a function and a list as arguments,\n",
    "and returns a new list which contains items (from the first list) for which the function conditions are True\n",
    "'''\n",
    "\n",
    "print('..................Now to the combination of filter and lambda........................')\n",
    "\n",
    "\n",
    "# Program to filter out only the even items from a list\n",
    "my_list = [1, 5, 4, 6, 8, 11, 3, 12]\n",
    "\n",
    "new_list = list(filter(lambda x: (x%2 == 0) , my_list))\n",
    "\n",
    "# Output: [4, 6, 8, 12]\n",
    "print(new_list)"
   ]
  },
  {
   "cell_type": "markdown",
   "metadata": {},
   "source": [
    "### Time and Date in Python\n",
    "Date, time and datetime classes provides a number of function to deal with dates, times and time intervals"
   ]
  },
  {
   "cell_type": "code",
   "execution_count": 37,
   "metadata": {},
   "outputs": [
    {
     "name": "stdout",
     "output_type": "stream",
     "text": [
      "Local current time : time.struct_time(tm_year=2020, tm_mon=5, tm_mday=22, tm_hour=21, tm_min=48, tm_sec=2, tm_wday=4, tm_yday=143, tm_isdst=0)\n"
     ]
    }
   ],
   "source": [
    "#Importing time library\n",
    "import time\n",
    "\n",
    "localtime = time.localtime(time.time())\n",
    "print (\"Local current time :\", localtime)"
   ]
  },
  {
   "cell_type": "code",
   "execution_count": 38,
   "metadata": {},
   "outputs": [
    {
     "name": "stdout",
     "output_type": "stream",
     "text": [
      "Here is the calendar for the specified month in the year 2019:\n",
      "     July 2019\n",
      "Mo Tu We Th Fr Sa Su\n",
      " 1  2  3  4  5  6  7\n",
      " 8  9 10 11 12 13 14\n",
      "15 16 17 18 19 20 21\n",
      "22 23 24 25 26 27 28\n",
      "29 30 31\n",
      "\n"
     ]
    }
   ],
   "source": [
    "#To import a calender\n",
    "import calendar\n",
    "\n",
    "cal = calendar.month(2019, 7)\n",
    "print (\"Here is the calendar for the specified month in the year 2019:\")\n",
    "print(cal)"
   ]
  },
  {
   "cell_type": "code",
   "execution_count": 39,
   "metadata": {},
   "outputs": [
    {
     "name": "stdout",
     "output_type": "stream",
     "text": [
      "The current time and date is  2020-05-22 21:49:19.174395\n",
      "The current time without the date is  21:49:19.175394\n",
      "the current date without time is  2020-05-22\n"
     ]
    }
   ],
   "source": [
    "from datetime import datetime, date\n",
    "\n",
    "# Getting the current time and date\n",
    "time_now = datetime.now() \n",
    "print('The current time and date is ', time_now)\n",
    "\n",
    "#Suppose we want to print just the current time without the date            \n",
    "t = datetime.time(datetime.now())\n",
    "print('The current time without the date is ', t)\n",
    "\n",
    "\n",
    "# Getting the current date without time\n",
    "todays_date = date.today()\n",
    "print ('the current date without time is ', todays_date)"
   ]
  },
  {
   "cell_type": "markdown",
   "metadata": {},
   "source": [
    "### Modules and Import\n",
    "Modules in python is a file that contain numerous codes, functions, variables, classes etc for specific functionalities. A module is a compilation of (often similar) functions under a general name. \n",
    "\n",
    "### Python built-in Modules"
   ]
  },
  {
   "cell_type": "code",
   "execution_count": 40,
   "metadata": {},
   "outputs": [
    {
     "name": "stdout",
     "output_type": "stream",
     "text": [
      "3.141592653589793\n"
     ]
    }
   ],
   "source": [
    "#importing a built-in module\n",
    "import math \n",
    "print(math.pi)"
   ]
  },
  {
   "cell_type": "code",
   "execution_count": 42,
   "metadata": {},
   "outputs": [
    {
     "name": "stdout",
     "output_type": "stream",
     "text": [
      "Conversion of \"2020, 5, 4\" to date format  2020-05-04 00:00:00\n",
      "The date and time at the meoment is  2020-05-22 21:51:10.442624\n",
      "The day of the week is  Friday\n"
     ]
    },
    {
     "data": {
      "text/plain": [
       "'\\n%a... weekday in short form\\n%A... weekday in full\\n%w... weekday as a number\\n%d... Day of the month\\n%b... Month name in short\\n%B... Month in full\\n%m... Month as a number\\n%y... Year in short\\n%Y... Year in full\\n%H... Hour in 24-hr format\\n%I... Hour in 12-hr format\\n%p... am or pm\\n%M... Minute\\n%S... Second\\n%f... Microsecond\\n%Z... timezone\\n%j... day number of year\\n%U... week number of year with Sunday as first day of the week\\n%W... week number of year with Monday as first day of the week\\n%c... Local version of date and time\\n%x... Local version of date\\n%X... Local version of time\\n'"
      ]
     },
     "execution_count": 42,
     "metadata": {},
     "output_type": "execute_result"
    }
   ],
   "source": [
    "import datetime # This is a module used for date and time with some of its methods listed below\n",
    "x = datetime.datetime(2020, 5, 4)\n",
    "print('Conversion of \"2020, 5, 4\" to date format ', x)\n",
    "time.sleep(5)\n",
    "\n",
    "x = datetime.datetime.now()\n",
    "print('The date and time at the meoment is ', x)\n",
    "\n",
    "time.sleep(3)\n",
    "print('The day of the week is ', x.strftime('%A'))\n",
    "\n",
    "\n",
    "'''\n",
    "%a... weekday in short form\n",
    "%A... weekday in full\n",
    "%w... weekday as a number\n",
    "%d... Day of the month\n",
    "%b... Month name in short\n",
    "%B... Month in full\n",
    "%m... Month as a number\n",
    "%y... Year in short\n",
    "%Y... Year in full\n",
    "%H... Hour in 24-hr format\n",
    "%I... Hour in 12-hr format\n",
    "%p... am or pm\n",
    "%M... Minute\n",
    "%S... Second\n",
    "%f... Microsecond\n",
    "%Z... timezone\n",
    "%j... day number of year\n",
    "%U... week number of year with Sunday as first day of the week\n",
    "%W... week number of year with Monday as first day of the week\n",
    "%c... Local version of date and time\n",
    "%x... Local version of date\n",
    "%X... Local version of time\n",
    "'''\n"
   ]
  },
  {
   "cell_type": "code",
   "execution_count": 43,
   "metadata": {},
   "outputs": [
    {
     "name": "stdout",
     "output_type": "stream",
     "text": [
      "   February 1900\n",
      "Mo Tu We Th Fr Sa Su\n",
      "          1  2  3  4\n",
      " 5  6  7  8  9 10 11\n",
      "12 13 14 15 16 17 18\n",
      "19 20 21 22 23 24 25\n",
      "26 27 28\n",
      "\n",
      "Number of ticks since 1970:  1590180673.4970489\n",
      "The time is:  time.struct_time(tm_year=2020, tm_mon=5, tm_mday=22, tm_hour=21, tm_min=51, tm_sec=13, tm_wday=4, tm_yday=143, tm_isdst=0)\n",
      "A better version of the time is:  Fri May 22 21:51:13 2020\n"
     ]
    }
   ],
   "source": [
    "import time\n",
    "import calendar\n",
    "ticks = time.time()\n",
    "\n",
    "#All these examples has been done under Python date and time module\n",
    "from time import localtime\n",
    "todaytime = localtime(time.time())\n",
    "\n",
    "more_readable_time = time.asctime(time.localtime(time.time()))\n",
    "time.sleep(3)\n",
    "\n",
    "cal = calendar.month(1900, 2)\n",
    "print(cal)\n",
    "\n",
    "print('Number of ticks since 1970: ', ticks)\n",
    "print('The time is: ', todaytime)\n",
    "print('A better version of the time is: ', more_readable_time)"
   ]
  },
  {
   "cell_type": "markdown",
   "metadata": {},
   "source": [
    "#### Creating a user defined module\n",
    "Follow these steps to create a new Module on your local machine:\n",
    "\n",
    "- Create a new python file\n",
    "- Copy this code cell into a new the file\n",
    "- Save the notebook with myMod and download as myMod.py\n",
    "\n",
    "Once the download completes, move the **myMod.py** into the same directory/folder with your active notebook\n",
    "- Run the next cell"
   ]
  },
  {
   "cell_type": "code",
   "execution_count": 46,
   "metadata": {},
   "outputs": [],
   "source": [
    "\"\"\"Module docstrings.\n",
    "\n",
    "This module demonstrates how to create a python module that can be imported into python code for reusability\n",
    "\n",
    "Available Functions: This module harbours 5 functions which are:\n",
    "\n",
    "func1() :It takes one no parameter but 'Hello Stranger'\n",
    "greet(name) :It takes one parameter which is name and return 'Hello + name_specified\n",
    "greet2(name, gender): takes 2 parameter ie. name and gender of users\n",
    "greet3(*names): Accepts arbitrary umber of parameters\n",
    "calc(num): Returns the square of a number\n",
    "student_age(dictionary): Accepts dictionary to return the age of students in the dictionary\n",
    "\n",
    "Impoting the module:\n",
    "        1. Make sure this module is saved in the same directory / folder with your currently running program\n",
    "        2. type import myMod\n",
    "\"\"\"\n",
    "\n",
    "# A function without parameters/variable/arguments\n",
    "def func1():\n",
    "    print('Hello Stranger')\n",
    "    \n",
    "    \n",
    "# A function with parameters/variable/arguments\n",
    "\n",
    "#Function to greet someone whose name will be specified\n",
    "def greet(name):\n",
    "    print('Hello, ', name)\n",
    "    \n",
    "    \n",
    "#Function to greet someone whose based on his or her gender   \n",
    "def greet2(name, gender):\n",
    "    if gender in ['Male', 'MALE', 'M', 'm', 'male']:\n",
    "        print('Hi', name, 'we welcome you brother')\n",
    "    else:\n",
    "        print('Hi', name, 'we welcome you Sister')\n",
    "\n",
    "\n",
    "# A function with arbitrary number of parameters with *\n",
    "def greet3(*names):\n",
    "    for name in names:\n",
    "        print('Hello', name, 'Welcome to Python Class')\n",
    "        import time\n",
    "        time.sleep(1)\n",
    "        \n",
    "\n",
    "def calc(num):\n",
    "    global square\n",
    "    square = num**2\n",
    "    print('the square of {} is {}'.format(num, square))\n",
    "\n",
    "\n",
    "def student_age(dictionary):\n",
    "    for student, age in dictionary.items():\n",
    "        print('The Age of', student, 'is', age)\n"
   ]
  },
  {
   "cell_type": "markdown",
   "metadata": {},
   "source": [
    "### Importing a user created module\n",
    "This could be done exactly as in-built modules will be imported. The syntax is \n",
    "                    \n",
    "                    import module_name\n",
    "                    \n",
    "For instance; \n",
    "    - a function that calculates the area and circumference of a circle called circle(area/circumference, radius)\n",
    "    - another function calculates the area and perimeter of a rectangle called rect(area/perimeter, length, breadth)\n",
    "    - another function calculates the area and perimeter of a triangle called triangle(area/perimeter, side1, side2, side3)\n",
    "These 3 functions can be stored in a module called plane_shapes, so that when we need to use the circle function, we simple:\n",
    "    - import plane_shapes\n",
    "    - plane_shapes.circle(circumference, radius)\n",
    "    - and we get the circumference of the said circle.\n",
    "\n",
    "Alternatively, we could use the from keyword;\n",
    "- from plane_shapes import circle\n",
    "- circle(circumference, radius)\n",
    "\n",
    "The above gives the same result"
   ]
  },
  {
   "cell_type": "markdown",
   "metadata": {},
   "source": [
    "### Importing all functions from a module to the current workspace\n",
    "We may use the \n",
    "\n",
    "- import * \n",
    "command to import all objects from a specific module\n",
    "- call each object or function as they are defined in the module"
   ]
  },
  {
   "cell_type": "code",
   "execution_count": 47,
   "metadata": {},
   "outputs": [
    {
     "name": "stdout",
     "output_type": "stream",
     "text": [
      "Hi Adebayo we welcome you brother\n"
     ]
    }
   ],
   "source": [
    "#Lets import the myMod.py we created and store in the folder containing our active program\n",
    "\n",
    "from myMod import *\n",
    "\n",
    "greet2('Adebayo', 'M')"
   ]
  },
  {
   "cell_type": "markdown",
   "metadata": {},
   "source": [
    "### Importing functions one by one from a module to the current workspace\n",
    "We may use the \n",
    "\n",
    "- import module_name \n",
    "command to import the entire module\n",
    "- call each object or function as they are defined in the module with  dot(.) notation"
   ]
  },
  {
   "cell_type": "code",
   "execution_count": 48,
   "metadata": {},
   "outputs": [
    {
     "name": "stdout",
     "output_type": "stream",
     "text": [
      "Hi David we welcome you brother\n"
     ]
    }
   ],
   "source": [
    "import myMod\n",
    "\n",
    "myMod.greet2('David', 'M')"
   ]
  },
  {
   "cell_type": "markdown",
   "metadata": {},
   "source": [
    "### Re-naming a Module\n",
    "You can create an alias when you import a module, by using the alias as keyword:\n",
    "\n",
    "for Example:\n",
    "           \n",
    "           import myMod as m"
   ]
  },
  {
   "cell_type": "code",
   "execution_count": 49,
   "metadata": {},
   "outputs": [
    {
     "name": "stdout",
     "output_type": "stream",
     "text": [
      "The Age of Monica is 12\n",
      "The Age of Luke is 30\n",
      "The Age of Steve is 33\n",
      "The Age of John is 23\n"
     ]
    }
   ],
   "source": [
    "import myMod as m\n",
    "\n",
    "m.student_age({\"Monica\":12, \"Luke\":30, \"Steve\": 33, \"John\": 23})"
   ]
  },
  {
   "cell_type": "markdown",
   "metadata": {},
   "source": [
    "#### Assignment 3\n",
    "- create a module called **plane_shapes** that contains:\n",
    "    - a function that calculates the area and circumference of a circle called circle(area/circumference, radius)\n",
    "    - another function calculates the area and perimeter of a rectangle called rect(area/perimeter, length, breadth)\n",
    "    - another function calculates the area and perimeter of a triangle called triangle(area/perimeter, side1, side2, side3)\n",
    "- Import the module \n",
    "- Let users supply the values of parameters (radius, perimeter, length, breadth)\n",
    "- Use the circle and rectangle function\n",
    "\n",
    "#### Assignment 4\n",
    "- Convert all the day2 exercises and assignments to functions\n",
    "- create a module containing all the functions you created \n",
    "- import your modules and call various functions embeded in the module"
   ]
  },
  {
   "cell_type": "markdown",
   "metadata": {},
   "source": [
    "### Remember, daily practice is key to your progress. Have fun!"
   ]
  }
 ],
 "metadata": {
  "kernelspec": {
   "display_name": "Python 3",
   "language": "python",
   "name": "python3"
  },
  "language_info": {
   "codemirror_mode": {
    "name": "ipython",
    "version": 3
   },
   "file_extension": ".py",
   "mimetype": "text/x-python",
   "name": "python",
   "nbconvert_exporter": "python",
   "pygments_lexer": "ipython3",
   "version": "3.7.7"
  }
 },
 "nbformat": 4,
 "nbformat_minor": 2
}

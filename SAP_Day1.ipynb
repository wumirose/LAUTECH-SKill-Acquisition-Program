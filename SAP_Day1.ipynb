{
 "cells": [
  {
   "cell_type": "markdown",
   "metadata": {
    "colab_type": "text",
    "id": "5fAD17xxjl7n"
   },
   "source": [
    "# Fundamentals of Python Programming for Data Science"
   ]
  },
  {
   "cell_type": "markdown",
   "metadata": {
    "colab_type": "text",
    "id": "kbHe81mtxUZ4"
   },
   "source": [
    "Day1: \n",
    "\n",
    "Aim of the training and Deliverables\n",
    "Anaconda Environment Setup and Installation\n",
    "\n",
    "- #### Operators and mathematical operations\n",
    "- #### Variables\n",
    "- #### Data Types\n",
    "- #### Commenting in Pyton\n",
    "- #### Input and output\n",
    "## Program Flow Control \n",
    "- #### If, elif and else statements\n",
    "- #### For loops\n",
    "- #### While loops"
   ]
  },
  {
   "cell_type": "markdown",
   "metadata": {
    "colab_type": "text",
    "id": "lyZFkT7ykqbi"
   },
   "source": [
    "# Section 1: Common mathematical operators and operations\n",
    "Operators are signs and symbols used to join two (2) numbers, variables (operands) While Operation is just a process of joining 2 or more numbers, variables together to form a meaningful expression. SOme basic python operators are:\n",
    "- Addition (+)\n",
    "- Subtraction (-)\n",
    "- Multiplication (*)\n",
    "- Division (/)\n",
    "- Floor Division (//): returns the Quotient part (whole number) of the result and truncates the remainder\n",
    "- Modulus: returns the remainder part of the result and truncates the quotient\n",
    "- Index/Exponent (e): Mathematical exponentials\n",
    "- Parentheses () :Used to indicate order of execution of arithmethic expression eg. P = (A-B) + D will follow\n",
    "    - Note: Number of opening parenthesis must be equal to the number of close parenthesis ie. (()), ((()))"
   ]
  },
  {
   "cell_type": "code",
   "execution_count": 2,
   "metadata": {
    "colab": {
     "base_uri": "https://localhost:8080/",
     "height": 33
    },
    "colab_type": "code",
    "executionInfo": {
     "elapsed": 920,
     "status": "ok",
     "timestamp": 1586450483080,
     "user": {
      "displayName": "Olawumi Olasunkanmi",
      "photoUrl": "",
      "userId": "07266238041954987098"
     },
     "user_tz": -60
    },
    "id": "xX2_BsI5xUa0",
    "outputId": "786f9f3c-eb38-4086-f279-962ce9200c90"
   },
   "outputs": [
    {
     "data": {
      "text/plain": [
       "97"
      ]
     },
     "execution_count": 2,
     "metadata": {},
     "output_type": "execute_result"
    }
   ],
   "source": [
    "52 + 45"
   ]
  },
  {
   "cell_type": "code",
   "execution_count": 3,
   "metadata": {
    "colab": {
     "base_uri": "https://localhost:8080/",
     "height": 33
    },
    "colab_type": "code",
    "executionInfo": {
     "elapsed": 1094,
     "status": "ok",
     "timestamp": 1586450483543,
     "user": {
      "displayName": "Olawumi Olasunkanmi",
      "photoUrl": "",
      "userId": "07266238041954987098"
     },
     "user_tz": -60
    },
    "id": "MrI217WxLC7_",
    "outputId": "0e1ae161-7b09-4fca-af3d-70b1384f5f36"
   },
   "outputs": [
    {
     "data": {
      "text/plain": [
       "-31"
      ]
     },
     "execution_count": 3,
     "metadata": {},
     "output_type": "execute_result"
    }
   ],
   "source": [
    "34 - 65"
   ]
  },
  {
   "cell_type": "code",
   "execution_count": 4,
   "metadata": {
    "colab": {
     "base_uri": "https://localhost:8080/",
     "height": 33
    },
    "colab_type": "code",
    "executionInfo": {
     "elapsed": 801,
     "status": "ok",
     "timestamp": 1586450483866,
     "user": {
      "displayName": "Olawumi Olasunkanmi",
      "photoUrl": "",
      "userId": "07266238041954987098"
     },
     "user_tz": -60
    },
    "id": "UnA-3EBCLGeY",
    "outputId": "fb9e0484-1708-4ca1-9b6c-a588a47faf67"
   },
   "outputs": [
    {
     "data": {
      "text/plain": [
       "13.0"
      ]
     },
     "execution_count": 4,
     "metadata": {},
     "output_type": "execute_result"
    }
   ],
   "source": [
    "65/5"
   ]
  },
  {
   "cell_type": "code",
   "execution_count": 5,
   "metadata": {
    "colab": {
     "base_uri": "https://localhost:8080/",
     "height": 33
    },
    "colab_type": "code",
    "executionInfo": {
     "elapsed": 779,
     "status": "ok",
     "timestamp": 1586450484839,
     "user": {
      "displayName": "Olawumi Olasunkanmi",
      "photoUrl": "",
      "userId": "07266238041954987098"
     },
     "user_tz": -60
    },
    "id": "8fdvIak1LJxH",
    "outputId": "add46e1e-7085-411e-c750-eaab6b341bab"
   },
   "outputs": [
    {
     "data": {
      "text/plain": [
       "4"
      ]
     },
     "execution_count": 5,
     "metadata": {},
     "output_type": "execute_result"
    }
   ],
   "source": [
    "9//2 "
   ]
  },
  {
   "cell_type": "code",
   "execution_count": 6,
   "metadata": {
    "colab": {
     "base_uri": "https://localhost:8080/",
     "height": 33
    },
    "colab_type": "code",
    "executionInfo": {
     "elapsed": 875,
     "status": "ok",
     "timestamp": 1586450619136,
     "user": {
      "displayName": "Olawumi Olasunkanmi",
      "photoUrl": "",
      "userId": "07266238041954987098"
     },
     "user_tz": -60
    },
    "id": "7hoSjnwvTO15",
    "outputId": "a40ed7ad-4e0b-4313-8095-12a8c1b537f2"
   },
   "outputs": [
    {
     "data": {
      "text/plain": [
       "(1.0042, 20000000.0)"
      ]
     },
     "execution_count": 6,
     "metadata": {},
     "output_type": "execute_result"
    }
   ],
   "source": [
    "1 + 4.2e-3, 5 * .4e7"
   ]
  },
  {
   "cell_type": "markdown",
   "metadata": {
    "colab_type": "text",
    "id": "x764KN6wLwvI"
   },
   "source": [
    "## Class Work 1: Execute the following \n",
    "- 2 * 45\n",
    "- 5%2\n",
    "- 6*3+2\n",
    "- (6*3)+2\n",
    "- 55//10"
   ]
  },
  {
   "cell_type": "code",
   "execution_count": 7,
   "metadata": {},
   "outputs": [
    {
     "data": {
      "text/plain": [
       "(90, 1, 20, 30, 5)"
      ]
     },
     "execution_count": 7,
     "metadata": {},
     "output_type": "execute_result"
    }
   ],
   "source": [
    "#Class Work 1: Solution \n",
    "\n",
    "2 * 45, 5%2, 6*3+2, 6*(3+2), 55//10"
   ]
  },
  {
   "cell_type": "markdown",
   "metadata": {
    "colab_type": "text",
    "id": "n3O0pWyHkXQT"
   },
   "source": [
    "# Section 2: Variables\n",
    "A variable is a named location used to store data in the memory\n",
    "\n",
    "Note: Variable names cannot be preceeded by a number and cannot be a keyword"
   ]
  },
  {
   "cell_type": "code",
   "execution_count": 8,
   "metadata": {
    "colab": {
     "base_uri": "https://localhost:8080/",
     "height": 33
    },
    "colab_type": "code",
    "executionInfo": {
     "elapsed": 1029,
     "status": "ok",
     "timestamp": 1586450488296,
     "user": {
      "displayName": "Olawumi Olasunkanmi",
      "photoUrl": "",
      "userId": "07266238041954987098"
     },
     "user_tz": -60
    },
    "id": "CwooMhJ-iQe9",
    "outputId": "218e51b4-f8a9-4d3d-ab17-808652c2ef05"
   },
   "outputs": [
    {
     "data": {
      "text/plain": [
       "5004"
      ]
     },
     "execution_count": 8,
     "metadata": {},
     "output_type": "execute_result"
    }
   ],
   "source": [
    "A30 = 5004\n",
    "\n",
    "A30"
   ]
  },
  {
   "cell_type": "code",
   "execution_count": 9,
   "metadata": {
    "colab": {
     "base_uri": "https://localhost:8080/",
     "height": 33
    },
    "colab_type": "code",
    "executionInfo": {
     "elapsed": 645,
     "status": "ok",
     "timestamp": 1586450488297,
     "user": {
      "displayName": "Olawumi Olasunkanmi",
      "photoUrl": "",
      "userId": "07266238041954987098"
     },
     "user_tz": -60
    },
    "id": "vcdUvVSEoNVl",
    "outputId": "59c79b95-8226-4acc-cd68-a2a1c4767e3b"
   },
   "outputs": [
    {
     "data": {
      "text/plain": [
       "(5, 3.2, 'Hello')"
      ]
     },
     "execution_count": 9,
     "metadata": {},
     "output_type": "execute_result"
    }
   ],
   "source": [
    "a, b, c = 5, 3.2, \"Hello\"\n",
    "\n",
    "a, b, c"
   ]
  },
  {
   "cell_type": "markdown",
   "metadata": {
    "colab_type": "text",
    "id": "5noPF3OAPKbU"
   },
   "source": [
    "# Section 3: Data Types\n",
    "A variable name can store any type of data. The common Data types are\n",
    "- Floating point data\n",
    "- Integers\n",
    "- Complex\n",
    "- String\n",
    "- Boolean"
   ]
  },
  {
   "cell_type": "code",
   "execution_count": 10,
   "metadata": {
    "colab": {
     "base_uri": "https://localhost:8080/",
     "height": 33
    },
    "colab_type": "code",
    "executionInfo": {
     "elapsed": 588,
     "status": "ok",
     "timestamp": 1586450489929,
     "user": {
      "displayName": "Olawumi Olasunkanmi",
      "photoUrl": "",
      "userId": "07266238041954987098"
     },
     "user_tz": -60
    },
    "id": "2-UQfsqCxUaG",
    "outputId": "8bf7c6b0-30a6-4ba4-8fe2-9fe9fca9d933"
   },
   "outputs": [
    {
     "data": {
      "text/plain": [
       "float"
      ]
     },
     "execution_count": 10,
     "metadata": {},
     "output_type": "execute_result"
    }
   ],
   "source": [
    "# Float\n",
    "\n",
    "a = 2.052       \n",
    "type(a)"
   ]
  },
  {
   "cell_type": "code",
   "execution_count": 11,
   "metadata": {
    "colab": {},
    "colab_type": "code",
    "id": "9JUzp89wxUad"
   },
   "outputs": [],
   "source": [
    "#String\n",
    "b = 'The Hello World!'\n",
    "type(b)\n",
    "\n",
    "S = 'It sound\"s great!'"
   ]
  },
  {
   "cell_type": "code",
   "execution_count": 12,
   "metadata": {
    "colab": {
     "base_uri": "https://localhost:8080/",
     "height": 33
    },
    "colab_type": "code",
    "executionInfo": {
     "elapsed": 1143,
     "status": "ok",
     "timestamp": 1586450493228,
     "user": {
      "displayName": "Olawumi Olasunkanmi",
      "photoUrl": "",
      "userId": "07266238041954987098"
     },
     "user_tz": -60
    },
    "id": "0wUDt-TixUak",
    "outputId": "ee21a7e0-3774-4f9d-abd3-4f4292605ddb"
   },
   "outputs": [
    {
     "data": {
      "text/plain": [
       "int"
      ]
     },
     "execution_count": 12,
     "metadata": {},
     "output_type": "execute_result"
    }
   ],
   "source": [
    "#Integer\n",
    "c = 65\n",
    "type(c)"
   ]
  },
  {
   "cell_type": "code",
   "execution_count": 13,
   "metadata": {
    "colab": {
     "base_uri": "https://localhost:8080/",
     "height": 33
    },
    "colab_type": "code",
    "executionInfo": {
     "elapsed": 573,
     "status": "ok",
     "timestamp": 1586450494606,
     "user": {
      "displayName": "Olawumi Olasunkanmi",
      "photoUrl": "",
      "userId": "07266238041954987098"
     },
     "user_tz": -60
    },
    "id": "wq4XoJnWxUas",
    "outputId": "a700f12b-6b47-4ff2-a5ca-75fb9888c6df"
   },
   "outputs": [
    {
     "data": {
      "text/plain": [
       "bool"
      ]
     },
     "execution_count": 13,
     "metadata": {},
     "output_type": "execute_result"
    }
   ],
   "source": [
    "#Boolean\n",
    "d = True\n",
    "type(d)"
   ]
  },
  {
   "cell_type": "code",
   "execution_count": 14,
   "metadata": {
    "colab": {
     "base_uri": "https://localhost:8080/",
     "height": 33
    },
    "colab_type": "code",
    "executionInfo": {
     "elapsed": 729,
     "status": "ok",
     "timestamp": 1586450495205,
     "user": {
      "displayName": "Olawumi Olasunkanmi",
      "photoUrl": "",
      "userId": "07266238041954987098"
     },
     "user_tz": -60
    },
    "id": "d5a_g9C5SRlb",
    "outputId": "8208c252-5c4c-45e5-d4e1-945503f8f66c"
   },
   "outputs": [
    {
     "data": {
      "text/plain": [
       "complex"
      ]
     },
     "execution_count": 14,
     "metadata": {},
     "output_type": "execute_result"
    }
   ],
   "source": [
    "c = 5 + 3j\n",
    "(type(c))"
   ]
  },
  {
   "cell_type": "markdown",
   "metadata": {
    "colab_type": "text",
    "id": "-8yEdmqSROzZ"
   },
   "source": [
    "Comments in Python\n",
    "- Single line\n",
    "- Multiple line"
   ]
  },
  {
   "cell_type": "code",
   "execution_count": 15,
   "metadata": {
    "colab": {
     "base_uri": "https://localhost:8080/",
     "height": 33
    },
    "colab_type": "code",
    "executionInfo": {
     "elapsed": 736,
     "status": "ok",
     "timestamp": 1586450524444,
     "user": {
      "displayName": "Olawumi Olasunkanmi",
      "photoUrl": "",
      "userId": "07266238041954987098"
     },
     "user_tz": -60
    },
    "id": "DiJaoX13xUa8",
    "outputId": "3f51eae1-99d4-4b69-9b44-6aab32374a72"
   },
   "outputs": [
    {
     "data": {
      "text/plain": [
       "'This is a single line comment'"
      ]
     },
     "execution_count": 15,
     "metadata": {},
     "output_type": "execute_result"
    }
   ],
   "source": [
    "# This is good\n",
    "\n",
    "'This is a single line comment'"
   ]
  },
  {
   "cell_type": "code",
   "execution_count": 16,
   "metadata": {
    "colab": {
     "base_uri": "https://localhost:8080/",
     "height": 33
    },
    "colab_type": "code",
    "executionInfo": {
     "elapsed": 788,
     "status": "ok",
     "timestamp": 1586450569214,
     "user": {
      "displayName": "Olawumi Olasunkanmi",
      "photoUrl": "",
      "userId": "07266238041954987098"
     },
     "user_tz": -60
    },
    "id": "1_iLn_6w0ij_",
    "outputId": "72fcd041-0e3e-4d5e-9d70-ca1f29dea3b0"
   },
   "outputs": [
    {
     "data": {
      "text/plain": [
       "' \\nThis is still a comment,\\nand still going, \\nstill going,\\nstill going,...\\n'"
      ]
     },
     "execution_count": 16,
     "metadata": {},
     "output_type": "execute_result"
    }
   ],
   "source": [
    "''' \n",
    "This is still a comment,\n",
    "and still going, \n",
    "still going,\n",
    "still going,...\n",
    "'''"
   ]
  },
  {
   "cell_type": "code",
   "execution_count": 17,
   "metadata": {
    "colab": {
     "base_uri": "https://localhost:8080/",
     "height": 33
    },
    "colab_type": "code",
    "executionInfo": {
     "elapsed": 817,
     "status": "ok",
     "timestamp": 1586450574061,
     "user": {
      "displayName": "Olawumi Olasunkanmi",
      "photoUrl": "",
      "userId": "07266238041954987098"
     },
     "user_tz": -60
    },
    "id": "tkWJJU4K0aep",
    "outputId": "a602b0c9-326f-4f32-eaf8-beccfabad875"
   },
   "outputs": [
    {
     "data": {
      "text/plain": [
       "\"\\nThis is also a comment\\nAnd it's multi - line\\n\""
      ]
     },
     "execution_count": 17,
     "metadata": {},
     "output_type": "execute_result"
    }
   ],
   "source": [
    "\n",
    "\"\"\"\n",
    "This is also a comment\n",
    "And it's multi - line\n",
    "\"\"\""
   ]
  },
  {
   "cell_type": "markdown",
   "metadata": {
    "colab_type": "text",
    "id": "W8eNEYvuWN0W"
   },
   "source": [
    "## String Operation\n",
    " A string is defined as sequence of character enlosed in a quote.\n",
    "\n",
    "### String Indexing\n",
    "\n",
    "Since Strings are array of characters, string elements (characters) are accessible with the use of indices. The process of doing this is called **String Slicing**\n",
    "\n",
    "**NOTE: Indexing starts at 0, Therefore, upperbound is always excluded**"
   ]
  },
  {
   "cell_type": "code",
   "execution_count": 18,
   "metadata": {
    "colab": {
     "base_uri": "https://localhost:8080/",
     "height": 33
    },
    "colab_type": "code",
    "executionInfo": {
     "elapsed": 1076,
     "status": "ok",
     "timestamp": 1586450634624,
     "user": {
      "displayName": "Olawumi Olasunkanmi",
      "photoUrl": "",
      "userId": "07266238041954987098"
     },
     "user_tz": -60
    },
    "id": "gQGDOqTlVjdQ",
    "outputId": "e1ad52d8-b7ac-4be3-aca9-b7d6321c222a"
   },
   "outputs": [
    {
     "data": {
      "text/plain": [
       "('I', '!', 'o gre')"
      ]
     },
     "execution_count": 18,
     "metadata": {},
     "output_type": "execute_result"
    }
   ],
   "source": [
    "S1 = 'It\"s so great!'\n",
    "S2 = 'Nice being here'\n",
    "#Slicing\n",
    "S1[0], S1[-1], S1[6:11]"
   ]
  },
  {
   "cell_type": "code",
   "execution_count": 19,
   "metadata": {
    "colab": {
     "base_uri": "https://localhost:8080/",
     "height": 33
    },
    "colab_type": "code",
    "executionInfo": {
     "elapsed": 835,
     "status": "ok",
     "timestamp": 1586450638198,
     "user": {
      "displayName": "Olawumi Olasunkanmi",
      "photoUrl": "",
      "userId": "07266238041954987098"
     },
     "user_tz": -60
    },
    "id": "QI_jRPwEXvB9",
    "outputId": "0e8400a2-0455-456e-9cfa-ebe6aa758c33"
   },
   "outputs": [
    {
     "data": {
      "text/plain": [
       "'Nice being hereIt\"s so great!'"
      ]
     },
     "execution_count": 19,
     "metadata": {},
     "output_type": "execute_result"
    }
   ],
   "source": [
    "# String Concatenation: This is the process of joining two (2) or more strings together\n",
    "S2 + S1"
   ]
  },
  {
   "cell_type": "code",
   "execution_count": 20,
   "metadata": {
    "colab": {
     "base_uri": "https://localhost:8080/",
     "height": 33
    },
    "colab_type": "code",
    "executionInfo": {
     "elapsed": 892,
     "status": "ok",
     "timestamp": 1586450640660,
     "user": {
      "displayName": "Olawumi Olasunkanmi",
      "photoUrl": "",
      "userId": "07266238041954987098"
     },
     "user_tz": -60
    },
    "id": "90aJ5qLQjBo5",
    "outputId": "974c7a2c-9170-48d7-bb19-cb82406b514f"
   },
   "outputs": [
    {
     "data": {
      "text/plain": [
       "29"
      ]
     },
     "execution_count": 20,
     "metadata": {},
     "output_type": "execute_result"
    }
   ],
   "source": [
    "#String Length\n",
    "S3 = S2 + S1\n",
    "len(S3)"
   ]
  },
  {
   "cell_type": "markdown",
   "metadata": {
    "colab_type": "text",
    "id": "7Gyy8ZffjOrB"
   },
   "source": [
    "### String Methods \n",
    "\n",
    "Python has a set of built-in methods that you can use on strings. These methods return new values without changing the original string.\n",
    "\n",
    "[Click here](http://python-ds.com/python-3-string-methods) for more"
   ]
  },
  {
   "cell_type": "code",
   "execution_count": 21,
   "metadata": {
    "colab": {
     "base_uri": "https://localhost:8080/",
     "height": 33
    },
    "colab_type": "code",
    "executionInfo": {
     "elapsed": 885,
     "status": "ok",
     "timestamp": 1586450643416,
     "user": {
      "displayName": "Olawumi Olasunkanmi",
      "photoUrl": "",
      "userId": "07266238041954987098"
     },
     "user_tz": -60
    },
    "id": "k2-5mq5hjnhn",
    "outputId": "36dcd731-881d-4f1f-8aca-8d0c43c0f28d"
   },
   "outputs": [
    {
     "data": {
      "text/plain": [
       "('Nice being here', 'IT\"S SO GREAT!')"
      ]
     },
     "execution_count": 21,
     "metadata": {},
     "output_type": "execute_result"
    }
   ],
   "source": [
    "'''capitalize()\tConverts the first character to upper case\n",
    "   upper()\tConverts a string into upper case\n",
    "'''\n",
    "S1 = 'It\"s so great!'\n",
    "S2 = 'Nice being here'\n",
    "\n",
    "S2.capitalize(), S1.upper()"
   ]
  },
  {
   "cell_type": "code",
   "execution_count": 22,
   "metadata": {
    "colab": {
     "base_uri": "https://localhost:8080/",
     "height": 33
    },
    "colab_type": "code",
    "executionInfo": {
     "elapsed": 830,
     "status": "ok",
     "timestamp": 1586450648362,
     "user": {
      "displayName": "Olawumi Olasunkanmi",
      "photoUrl": "",
      "userId": "07266238041954987098"
     },
     "user_tz": -60
    },
    "id": "Ji4HhiKJnFZb",
    "outputId": "44f1e942-d6d5-4678-b0b3-95bd81dbcbf8"
   },
   "outputs": [
    {
     "data": {
      "text/plain": [
       "'IT\"S SO GREAT!'"
      ]
     },
     "execution_count": 22,
     "metadata": {},
     "output_type": "execute_result"
    }
   ],
   "source": [
    "S1.upper()"
   ]
  },
  {
   "cell_type": "code",
   "execution_count": 23,
   "metadata": {
    "colab": {
     "base_uri": "https://localhost:8080/",
     "height": 33
    },
    "colab_type": "code",
    "executionInfo": {
     "elapsed": 1153,
     "status": "ok",
     "timestamp": 1586450650991,
     "user": {
      "displayName": "Olawumi Olasunkanmi",
      "photoUrl": "",
      "userId": "07266238041954987098"
     },
     "user_tz": -60
    },
    "id": "U3TthDzOosSV",
    "outputId": "f5596b86-3282-4984-be8f-2affa6d14351"
   },
   "outputs": [
    {
     "data": {
      "text/plain": [
       "('Mrs', 'Chukwudi', 'Olamide')"
      ]
     },
     "execution_count": 23,
     "metadata": {},
     "output_type": "execute_result"
    }
   ],
   "source": [
    "My_Name = \"Mrs Chukwudi Olamide\"\n",
    "\n",
    "Status = My_Name.split()[0]\n",
    "Gender = My_Name.split()[1]\n",
    "First_Name = My_Name.split()[-1]\n",
    "\n",
    "Status, Gender, First_Name"
   ]
  },
  {
   "cell_type": "markdown",
   "metadata": {
    "colab_type": "text",
    "id": "Q3RzmA7Wx8Ya"
   },
   "source": [
    "## Class Work 2: Practice at least 5 string methods on \n",
    " S3 = 'It\"s so great!, Nice being here'"
   ]
  },
  {
   "cell_type": "code",
   "execution_count": 24,
   "metadata": {},
   "outputs": [],
   "source": [
    "S3 = 'It\"s so great!, Nice being here'"
   ]
  },
  {
   "cell_type": "markdown",
   "metadata": {
    "colab_type": "text",
    "id": "TeR7IFsnU_D_"
   },
   "source": [
    "# Section 4: Inputs and Outputs"
   ]
  },
  {
   "cell_type": "markdown",
   "metadata": {
    "colab_type": "text",
    "id": "SUsDJ3bpaq-w"
   },
   "source": [
    "### Inputs\n",
    "\n",
    "This is a programme to request for a user's age and output a string \"You are **Age** years old\" where **Age** is the User's input"
   ]
  },
  {
   "cell_type": "code",
   "execution_count": 27,
   "metadata": {
    "colab": {
     "base_uri": "https://localhost:8080/",
     "height": 33
    },
    "colab_type": "code",
    "executionInfo": {
     "elapsed": 13146,
     "status": "ok",
     "timestamp": 1586450697674,
     "user": {
      "displayName": "Olawumi Olasunkanmi",
      "photoUrl": "",
      "userId": "07266238041954987098"
     },
     "user_tz": -60
    },
    "id": "LbGMMww2apXH",
    "outputId": "bae32957-03a7-493c-e63e-372c56d45531"
   },
   "outputs": [
    {
     "name": "stdin",
     "output_type": "stream",
     "text": [
      "How old are you?  23\n"
     ]
    }
   ],
   "source": [
    "age = input('How old are you? ')"
   ]
  },
  {
   "cell_type": "markdown",
   "metadata": {
    "colab_type": "text",
    "id": "DUBZ4qMJbwjF"
   },
   "source": [
    "Other interesting and sometimes, better ways of printing your output\n"
   ]
  },
  {
   "cell_type": "markdown",
   "metadata": {
    "colab_type": "text",
    "id": "IewG0SpNa7H-"
   },
   "source": [
    "### Outputs - Print Statement"
   ]
  },
  {
   "cell_type": "code",
   "execution_count": 28,
   "metadata": {
    "colab": {
     "base_uri": "https://localhost:8080/",
     "height": 66
    },
    "colab_type": "code",
    "executionInfo": {
     "elapsed": 916,
     "status": "ok",
     "timestamp": 1586450700295,
     "user": {
      "displayName": "Olawumi Olasunkanmi",
      "photoUrl": "",
      "userId": "07266238041954987098"
     },
     "user_tz": -60
    },
    "id": "Y89ObyWibypv",
    "outputId": "6f1a5021-14be-46f1-bf02-c6e134e6abc9"
   },
   "outputs": [
    {
     "name": "stdout",
     "output_type": "stream",
     "text": [
      "You are 23 years old\n",
      "You are 23 years old\n",
      "You are 23 years old\n"
     ]
    }
   ],
   "source": [
    "# One way of making your print statement more descriptive\n",
    "print('You are', age, 'years old')\n",
    "\n",
    "\n",
    "# One way of making your print statement more descriptive\n",
    "print ('You are {} years old'.format(age))\n",
    "\n",
    "# One way of making your print statement more descriptive\n",
    "print ('You are %d years old' %(int(age)))\n"
   ]
  },
  {
   "cell_type": "markdown",
   "metadata": {
    "colab_type": "text",
    "id": "rVArs_vUv8lI"
   },
   "source": [
    "# Section 5: Program control flow /Control statements\n",
    "\n",
    "These statements are use to specify the order of execution of instructs and loop over certain set of instructions if certain conditions are me. The basic control statement in Python includes\n",
    "\n",
    " - If... else if (elif)... end\n",
    " - For...\n",
    " - While... break\n",
    "\n",
    "Write a program to check a user's age; if age is less than 20, print you're lucky to be here, if age is between 20 and 25, print make good use of this opportunity, if age is above 25, print print you are in the right place?"
   ]
  },
  {
   "cell_type": "code",
   "execution_count": 30,
   "metadata": {
    "colab": {
     "base_uri": "https://localhost:8080/",
     "height": 50
    },
    "colab_type": "code",
    "executionInfo": {
     "elapsed": 6702,
     "status": "ok",
     "timestamp": 1586450718184,
     "user": {
      "displayName": "Olawumi Olasunkanmi",
      "photoUrl": "",
      "userId": "07266238041954987098"
     },
     "user_tz": -60
    },
    "id": "NCJwyYZshB9c",
    "outputId": "7842563c-20ba-4e19-d037-820e830b805f"
   },
   "outputs": [
    {
     "name": "stdin",
     "output_type": "stream",
     "text": [
      "Input your age please:  23\n"
     ]
    },
    {
     "name": "stdout",
     "output_type": "stream",
     "text": [
      "Make good use of this opportunity\n"
     ]
    }
   ],
   "source": [
    "'''The conditions are:\n",
    "if age is less than 20, print you're lucky to be here;\n",
    "if age is between 20 and 25, print make good use of this opportunity;\n",
    "if age is above 25, print you are in the right place\n",
    "'''\n",
    "user_age = input('Input your age please: ')\n",
    "user_age = int(user_age)                  # To convert user input to an integer\n",
    "if user_age <= 0:                         # To check for invalid age input\n",
    "    print('You have entered an invalid age')\n",
    "elif user_age < 20 :\n",
    "    print(\"You're lucky to be here\")\n",
    "elif user_age >= 20 and user_age <= 25:       \n",
    "    print('Make good use of this opportunity')\n",
    "else:                                    # This condition considers every other age bracket not included\n",
    "    print('You are in the right place')"
   ]
  },
  {
   "cell_type": "markdown",
   "metadata": {
    "colab_type": "text",
    "id": "ddoCNuMBxUbJ"
   },
   "source": [
    "##### Write a programme to calculate the volume of cylinders and cones based on users' interest in term of shape\n"
   ]
  },
  {
   "cell_type": "markdown",
   "metadata": {
    "colab_type": "text",
    "id": "n_jpf7dGxUbP"
   },
   "source": [
    "$ Formula: $\n",
    "- $ Cone: (1/3)*pi*r^2h $\n",
    "- $ Cylinder: pi*r^2h $"
   ]
  },
  {
   "cell_type": "code",
   "execution_count": 31,
   "metadata": {
    "colab": {
     "base_uri": "https://localhost:8080/",
     "height": 115
    },
    "colab_type": "code",
    "executionInfo": {
     "elapsed": 17443,
     "status": "ok",
     "timestamp": 1586450325418,
     "user": {
      "displayName": "Olawumi Olasunkanmi",
      "photoUrl": "",
      "userId": "07266238041954987098"
     },
     "user_tz": -60
    },
    "id": "sTnwwTZYxUbK",
    "outputId": "0208d56a-39a3-450d-ee71-f419eafcaef6"
   },
   "outputs": [
    {
     "name": "stdin",
     "output_type": "stream",
     "text": [
      "What shape would you like to calculate? cone(c) or cyliner (cy) \n",
      " c\n",
      "What is the radius in cm? \n",
      " 12\n",
      "What is the height in cm? \n",
      " 2\n"
     ]
    }
   ],
   "source": [
    "shape = input('What shape would you like to calculate? cone(c) or cyliner (cy) \\n')\n",
    "radius = int(input('What is the radius in cm? \\n'))\n",
    "height = int(input('What is the height in cm? \\n'))"
   ]
  },
  {
   "cell_type": "code",
   "execution_count": 32,
   "metadata": {
    "colab": {
     "base_uri": "https://localhost:8080/",
     "height": 33
    },
    "colab_type": "code",
    "executionInfo": {
     "elapsed": 768,
     "status": "ok",
     "timestamp": 1586450827485,
     "user": {
      "displayName": "Olawumi Olasunkanmi",
      "photoUrl": "",
      "userId": "07266238041954987098"
     },
     "user_tz": -60
    },
    "id": "NK8RsnLfxUbQ",
    "outputId": "04af525f-b86e-4394-f197-86f363c31606"
   },
   "outputs": [
    {
     "name": "stdout",
     "output_type": "stream",
     "text": [
      "301.59289474462014\n"
     ]
    }
   ],
   "source": [
    "import math as m\n",
    "if shape == 'c':\n",
    "    my_shape = 'Cone'                           # Specifying the real shape name \n",
    "    volume = (1/3) * m.pi * (radius ** 2) * height\n",
    "else:\n",
    "    my_shape = 'Cylinder'                       # Real shape name\n",
    "    volume = m.pi * (radius ** 2) * height\n",
    "print(volume)"
   ]
  },
  {
   "cell_type": "code",
   "execution_count": 33,
   "metadata": {
    "colab": {
     "base_uri": "https://localhost:8080/",
     "height": 66
    },
    "colab_type": "code",
    "executionInfo": {
     "elapsed": 859,
     "status": "ok",
     "timestamp": 1586450848828,
     "user": {
      "displayName": "Olawumi Olasunkanmi",
      "photoUrl": "",
      "userId": "07266238041954987098"
     },
     "user_tz": -60
    },
    "id": "KQYSe1C1xUbV",
    "outputId": "2593981e-5442-479b-a795-f0a1f3b60849"
   },
   "outputs": [
    {
     "name": "stdout",
     "output_type": "stream",
     "text": [
      "The volume of a Cone with radius 12cm and height 2cm is 301.59289474462014cm3\n",
      "The volume of a Cone with radius 12cm, and height 2cm, is 301.59289474462014cm3\n",
      "The volume of a Cone with radius 12cm, and height 2cm, is 301cm3\n"
     ]
    }
   ],
   "source": [
    "# One way of making your print statement more descriptive\n",
    "print ('The volume of a ' + my_shape + ' with radius ' + str(radius) + 'cm and height ' + str(height) + 'cm is ' + str(volume) + 'cm3')\n",
    "\n",
    "# Another descriptive method to print\n",
    "output1 = 'The volume of a {} with radius {}cm, and height {}cm, is {}cm3' .format(my_shape, radius, height, volume)\n",
    "print(output1)\n",
    "\n",
    "# And yet another descriptive method of printing with decimal output instead of float\n",
    "output2 = 'The volume of a %s with radius %dcm, and height %dcm, is %dcm3' %(my_shape, radius, height, volume)\n",
    "print(output2)"
   ]
  },
  {
   "cell_type": "markdown",
   "metadata": {
    "colab_type": "text",
    "id": "8r5dSFyYxUbY"
   },
   "source": [
    "## Assignments: Solution\n"
   ]
  },
  {
   "cell_type": "code",
   "execution_count": 35,
   "metadata": {},
   "outputs": [
    {
     "name": "stdout",
     "output_type": "stream",
     "text": [
      "The Fahrenheit equivalence of 50 degree Celcius is  122.0\n",
      "The Fahrenheit equivalence of 100 degree Celcius is  212.0\n",
      "The Fahrenheit equivalence of 0 degree Celcius is  32.0\n",
      "The Fahrenheit equivalence of 25 degree Celcius is  77.0\n"
     ]
    }
   ],
   "source": [
    "'''\n",
    "A program to convert the following degrees in Celsius to Fahrenheit\n",
    " - 50\n",
    " - 100\n",
    " - 0\n",
    " - 25\n",
    " '''\n",
    "Fahrenheit_50 = (9 / 5) * 50 + 32 \n",
    "print('The Fahrenheit equivalence of 50 degree Celcius is ', Fahrenheit_50)\n",
    "\n",
    "Fahrenheit_100 = (9 / 5) * 100 + 32 \n",
    "print('The Fahrenheit equivalence of 100 degree Celcius is ', Fahrenheit_100)\n",
    "\n",
    "Fahrenheit_0 = (9 / 5) * 0 + 32 \n",
    "print('The Fahrenheit equivalence of 0 degree Celcius is ', Fahrenheit_0)\n",
    "\n",
    "Fahrenheit_25 = (9 / 5) * 25 + 32 \n",
    "print('The Fahrenheit equivalence of 25 degree Celcius is ', Fahrenheit_25)"
   ]
  },
  {
   "cell_type": "code",
   "execution_count": 37,
   "metadata": {},
   "outputs": [
    {
     "name": "stdin",
     "output_type": "stream",
     "text": [
      "Supply the principal value:  23\n",
      "Supply the rate:  2\n",
      "Supply the time in secs:  300\n"
     ]
    },
    {
     "name": "stdout",
     "output_type": "stream",
     "text": [
      "138.0\n"
     ]
    }
   ],
   "source": [
    "'''\n",
    "A program to calculate simple interest, with the user specifying the principal, rate, and time.\n",
    " '''\n",
    "principal = int(input('Supply the principal value: '))\n",
    "rate = int(input('Supply the rate: '))\n",
    "time = int(input('Supply the time in secs: '))\n",
    "\n",
    "Simple_Interest = (principal * rate * time) / 100\n",
    "\n",
    "print(Simple_Interest)"
   ]
  },
  {
   "cell_type": "code",
   "execution_count": 38,
   "metadata": {},
   "outputs": [
    {
     "name": "stdin",
     "output_type": "stream",
     "text": [
      "How many days are in your desired year?  360\n"
     ]
    },
    {
     "name": "stdout",
     "output_type": "stream",
     "text": [
      "With  360  days, the year is not a leap year\n"
     ]
    }
   ],
   "source": [
    "'''\n",
    "A program to check if a user defined year is leap year or not\n",
    " '''\n",
    "days = int(input('How many days are in your desired year? '))\n",
    "if days <= 365:\n",
    "    print('With ', days, ' days, the year is not a leap year')\n",
    "else:\n",
    "    print('With ', days, ' days, the year is a leap year')"
   ]
  },
  {
   "cell_type": "code",
   "execution_count": 39,
   "metadata": {},
   "outputs": [
    {
     "name": "stdin",
     "output_type": "stream",
     "text": [
      "Supply a number:  5\n"
     ]
    },
    {
     "name": "stdout",
     "output_type": "stream",
     "text": [
      "5 is an Odd number\n"
     ]
    }
   ],
   "source": [
    "'''\n",
    "A program to check if a user defined number is odd or even\n",
    " or not\n",
    " '''\n",
    "number = int(input('Supply a number: '))\n",
    "if number % 2 == 0:\n",
    "    print('{} is an Even number'.format(number))\n",
    "else:\n",
    "    print('%d is an Odd number' %(number))"
   ]
  }
 ],
 "metadata": {
  "colab": {
   "collapsed_sections": [],
   "name": "SAP First class.ipynb",
   "provenance": [
    {
     "file_id": "1gZNJxy3LOfVPb5MeplTkLji3sFyauHK3",
     "timestamp": 1586418294225
    }
   ]
  },
  "kernelspec": {
   "display_name": "Python 3",
   "language": "python",
   "name": "python3"
  },
  "language_info": {
   "codemirror_mode": {
    "name": "ipython",
    "version": 3
   },
   "file_extension": ".py",
   "mimetype": "text/x-python",
   "name": "python",
   "nbconvert_exporter": "python",
   "pygments_lexer": "ipython3",
   "version": "3.7.7"
  }
 },
 "nbformat": 4,
 "nbformat_minor": 4
}

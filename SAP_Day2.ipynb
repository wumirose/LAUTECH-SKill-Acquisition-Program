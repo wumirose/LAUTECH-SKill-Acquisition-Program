{
 "cells": [
  {
   "cell_type": "markdown",
   "metadata": {
    "colab_type": "text",
    "id": "vTl2feu9NaiC"
   },
   "source": [
    "### Welcome Back\n",
    "\n",
    "Quick refresher \n",
    "By now, your are expected to be conversant with how to :\n",
    "- print hello world \n",
    "- create a variable named my_name and assign the your name to it\n",
    "- Get the length of the user's name using the function len()\n",
    "- Convert your name to all lower case using my_name.lower()\n",
    "- convert your name to all upper case\n",
    "- Write a program to check a user's age; if age is less than 20, print you're lucky to be here, if age is between 20 and 25, print make good use of this opportunity, if age is above 25, print You are welcome, here?\n",
    "\n",
    "Implementation of this is in the next cell\n",
    "- Write a programme to comment on how interesting a football match was;\n",
    " - If no goals were scored, Python should say “the game was a bore draw!”\n",
    " - 1-2 goals: “Not the most interesting game\"\n",
    " - 3-5 goals: “It was a very interesting game”\n",
    " - 6+ goals: “The football match was an unmissable game!”\n",
    "\n",
    "### ASSIGNMENT 1\n",
    "- Write a program to calculate the square of a number if the number is greater than zero\n",
    "- Reproduce this calculator output:\n",
    " - Welcome to our calculator\n",
    " - Enter the first number: \n",
    " - Enter the second number: \n",
    " - Choose one of the following operations:\n",
    " - 1 - addition\n",
    " - 2 - subtraction\n",
    " - 3 - multiplication\n",
    " - 4 - division\n",
    " - result: \n",
    " - Thank you for using our calculator."
   ]
  },
  {
   "cell_type": "code",
   "execution_count": 1,
   "metadata": {
    "colab": {
     "base_uri": "https://localhost:8080/",
     "height": 50
    },
    "colab_type": "code",
    "id": "fYmHvwSxMa9v",
    "outputId": "251b5149-7af0-43f3-eb68-0db683a87233"
   },
   "outputs": [
    {
     "name": "stdout",
     "output_type": "stream",
     "text": [
      "How many goals were scored in the last match? 5\n",
      "It was a very interesting game\n"
     ]
    }
   ],
   "source": [
    "'''\n",
    "Write a programme to comment on how interesting a football match was;\n",
    "If no goals were scored, Python should say “the game was a bore draw!”\n",
    "1-2 goals: “Not the most interesting game\"\n",
    "3-5 goals: “It was a very interesting game”\n",
    "6+ goals: “The football match was an unmissable game!”\n",
    "'''\n",
    "goals_scored = input('How many goals were scored in the last match? ')\n",
    "goals_scored = int(goals_scored)                  # To convert user input to an integer\n",
    "if goals_scored < 0:                         # To check for invalid age input\n",
    "    print('You have entered an invalid scores')\n",
    "elif goals_scored  == 0:\n",
    "    print('The game was a bore draw')\n",
    "elif goals_scored <=2:\n",
    "    print('Not the most interesting game')\n",
    "elif goals_scored <=5:\n",
    "    print('It was a very interesting game')\n",
    "else:                                    # This condition considers every other age bracket not included\n",
    "    print('The football match was an unmissable game!')"
   ]
  },
  {
   "cell_type": "markdown",
   "metadata": {
    "colab_type": "text",
    "id": "Jly4DPBUpD2C"
   },
   "source": [
    "\n",
    "### SAP Second Class 10th April, 2020\n",
    "# ..................................................................................\n"
   ]
  },
  {
   "cell_type": "markdown",
   "metadata": {
    "colab_type": "text",
    "id": "awvaRAtjnwMW"
   },
   "source": [
    "## Class activity\n",
    "####Solve this on your own before looking at the implementation in the next cell\n",
    "Find the average of the following numbers:\n",
    "- 1, 2, 3, 4, 5, 6, 7, 7"
   ]
  },
  {
   "cell_type": "code",
   "execution_count": 2,
   "metadata": {
    "colab": {
     "base_uri": "https://localhost:8080/",
     "height": 33
    },
    "colab_type": "code",
    "id": "B1a8zLX2nwMa",
    "outputId": "d5c086e3-31f0-40cb-e92d-e2fffa74578a"
   },
   "outputs": [
    {
     "name": "stdout",
     "output_type": "stream",
     "text": [
      "The average of the sum of 1, 2, 3, 4, 5, 6, 7, 7 without looping is  4.375\n"
     ]
    }
   ],
   "source": [
    "''' To get the average of 1, 2, 3, 4, 5, 6, 7, 7, we will need\n",
    "numbers = 1 + 2 + 3 + 4 + 5 + 6 + 7 + 7\n",
    "sum = 1 + 2 + 3 + 4 + 5 + 6 + 7 + 7\n",
    "length = the total time we spend looping on the entire element of numbers\n",
    "avg = sum /\n",
    "'''\n",
    "\n",
    "\n",
    "# Solution 1 - without for loop\n",
    "numbers = [1, 2, 3, 4, 5, 6, 7, 7]\n",
    "numbers_sum = sum(numbers) #using a SUM Function on the List\n",
    "length_of_list = len(numbers)\n",
    "average = numbers_sum / length_of_list\n",
    "print('The average of the sum of 1, 2, 3, 4, 5, 6, 7, 7 without looping is ', average)"
   ]
  },
  {
   "cell_type": "code",
   "execution_count": 3,
   "metadata": {
    "colab": {
     "base_uri": "https://localhost:8080/",
     "height": 50
    },
    "colab_type": "code",
    "id": "CQL3OAeLnwMe",
    "outputId": "bcf492db-9d89-4f60-a228-3822f0b5a56f"
   },
   "outputs": [
    {
     "name": "stdout",
     "output_type": "stream",
     "text": [
      "Same as solution1 but shorter \n",
      "The average of the sum of 1, 2, 3, 4, 5, 6, 7, 7 without looping is  4.375\n"
     ]
    }
   ],
   "source": [
    "# Solution 1b - without for loop omitting few lines\n",
    "numbers = list((1, 2,3,4,5,6,7,7))\n",
    "average = (sum(numbers)/len(numbers))\n",
    "print('Same as solution1 but shorter \\nThe average of the sum of 1, 2, 3, 4, 5, 6, 7, 7 without looping is ', average)\n",
    "\n",
    "\n",
    "#Check another sOlution under FOR Statement"
   ]
  },
  {
   "cell_type": "markdown",
   "metadata": {
    "colab_type": "text",
    "id": "H7W6GX0SVCkL"
   },
   "source": [
    "### Ranges\n",
    "a range() is used to create a list of numbers to manipulate iteration. Range() function in Python is to iterate sequence type (List, string etc.. ) with for and while loop.\n",
    "Syntax : range(start, stop, step) or range(length_of_number)\n",
    "\n",
    "Write a program that prints all the numbers from 0 to 10 skipping every second digits"
   ]
  },
  {
   "cell_type": "code",
   "execution_count": 4,
   "metadata": {
    "colab": {
     "base_uri": "https://localhost:8080/",
     "height": 98
    },
    "colab_type": "code",
    "id": "H2Fdp_i0qZDf",
    "outputId": "cc10d3fb-7862-466b-bc79-04a8017a1ab5"
   },
   "outputs": [
    {
     "name": "stdout",
     "output_type": "stream",
     "text": [
      "0\n",
      "2\n",
      "4\n",
      "6\n",
      "8\n"
     ]
    }
   ],
   "source": [
    "for i in range(0, 10, 2):\n",
    "    print(i)\n"
   ]
  },
  {
   "cell_type": "code",
   "execution_count": 5,
   "metadata": {
    "colab": {
     "base_uri": "https://localhost:8080/",
     "height": 98
    },
    "colab_type": "code",
    "id": "dt8iNg7RFUMt",
    "outputId": "9965e3ae-2b6d-4af6-8742-ce9ecf01c68e"
   },
   "outputs": [
    {
     "name": "stdout",
     "output_type": "stream",
     "text": [
      "0\n",
      "1\n",
      "2\n",
      "3\n",
      "4\n"
     ]
    }
   ],
   "source": [
    "for i in range(5):\n",
    "  print (i)"
   ]
  },
  {
   "cell_type": "markdown",
   "metadata": {
    "colab_type": "text",
    "id": "ibgIvRgYEIqF"
   },
   "source": [
    "### FOR Statement, WHILE Loop\n",
    "The **for** statement is used to iterate over a piece of code which you want to repeat for n number of time. \n",
    "\n",
    "*Like an IF statement,* The **while loop** tells the computer to do something as long as the conditions are met. The conditions are evaluated, and if the condition is true, the code within the block is executed. *Just like for statement,* execution of the code within the block repeats until the condition becomes false. \n",
    "\n",
    "Write a program that prints all the numbers from 0 to 10 skipping every second digits"
   ]
  },
  {
   "cell_type": "code",
   "execution_count": 6,
   "metadata": {
    "colab": {
     "base_uri": "https://localhost:8080/",
     "height": 180
    },
    "colab_type": "code",
    "id": "ObptqK9NHRsM",
    "outputId": "5353330e-d788-491f-ad81-1d90fb2fbffc"
   },
   "outputs": [
    {
     "name": "stdout",
     "output_type": "stream",
     "text": [
      "10\n",
      "9\n",
      "8\n",
      "7\n",
      "6\n",
      "5\n",
      "4\n",
      "3\n",
      "2\n",
      "1\n"
     ]
    }
   ],
   "source": [
    "# Short code to countdown from 10 to 1 using a for loop\n",
    "for a in range (10, 0, -1):\n",
    "    print(a)"
   ]
  },
  {
   "cell_type": "code",
   "execution_count": 7,
   "metadata": {
    "colab": {},
    "colab_type": "code",
    "id": "iSqB0h9knwMi",
    "outputId": "1b3ca964-6449-4bc4-ae12-d3f629b04c09"
   },
   "outputs": [
    {
     "name": "stdout",
     "output_type": "stream",
     "text": [
      "10\n",
      "9\n",
      "8\n",
      "7\n",
      "6\n",
      "5\n",
      "4\n",
      "3\n",
      "2\n",
      "1\n"
     ]
    }
   ],
   "source": [
    "# Short code to countdown from 10 to 1 using a while loop\n",
    "a = 10\n",
    "while a > 0:\n",
    "    print(a)\n",
    "    a = a - 1\n"
   ]
  },
  {
   "cell_type": "code",
   "execution_count": 8,
   "metadata": {
    "colab": {
     "base_uri": "https://localhost:8080/",
     "height": 147
    },
    "colab_type": "code",
    "id": "hJVi7MjAIkW_",
    "outputId": "353cf883-691d-4354-b2ce-4b04e87267fd"
   },
   "outputs": [
    {
     "name": "stdout",
     "output_type": "stream",
     "text": [
      "c\n",
      "o\n",
      "m\n",
      "p\n",
      "u\n",
      "t\n",
      "e\n",
      "r\n"
     ]
    }
   ],
   "source": [
    "word = \"computer\"\n",
    "for letter in word:\n",
    "    print (letter)"
   ]
  },
  {
   "cell_type": "code",
   "execution_count": 9,
   "metadata": {
    "colab": {
     "base_uri": "https://localhost:8080/",
     "height": 147
    },
    "colab_type": "code",
    "id": "WKqmEWoIK-tH",
    "outputId": "d37197ab-4dc7-4e8f-b4b3-e4a5d4fff61c"
   },
   "outputs": [
    {
     "name": "stdout",
     "output_type": "stream",
     "text": [
      "c\n",
      "o\n",
      "m\n",
      "p\n",
      "u\n",
      "t\n",
      "e\n",
      "r\n"
     ]
    }
   ],
   "source": [
    "word = \"computer\"\n",
    "i = 0\n",
    "while i < len(word):\n",
    "  print (word[i]) #At the first iteration word[0] = c; later word[1] = o\n",
    "  i = i + 1"
   ]
  },
  {
   "cell_type": "code",
   "execution_count": 10,
   "metadata": {
    "colab": {
     "base_uri": "https://localhost:8080/",
     "height": 212
    },
    "colab_type": "code",
    "id": "i-7Ri3knnwMw",
    "outputId": "ef434fb2-09e6-472b-d9f0-47cb82ee0843"
   },
   "outputs": [
    {
     "name": "stdout",
     "output_type": "stream",
     "text": [
      "5 * 1 = 5\n",
      "5 * 2 = 10\n",
      "5 * 3 = 15\n",
      "5 * 4 = 20\n",
      "5 * 5 = 25\n",
      "5 * 6 = 30\n",
      "5 * 7 = 35\n",
      "5 * 8 = 40\n",
      "5 * 9 = 45\n",
      "5 * 10 = 50\n",
      "5 * 11 = 55\n",
      "5 * 12 = 60\n"
     ]
    }
   ],
   "source": [
    "'''\n",
    "Another while loop\n",
    "This program shows multiples of 5 i.e Mltiplication table 5\n",
    "'''\n",
    "a = 5\n",
    "b = 1\n",
    "while b <= 12:\n",
    "    print('%d * %d = %d' %(a, b, a*b))\n",
    "    b = b + 1"
   ]
  },
  {
   "cell_type": "markdown",
   "metadata": {
    "colab_type": "text",
    "id": "Up1I5qPQM_mg"
   },
   "source": [
    "### ASSIGNMENT 2\n",
    "Implement the Multiplication table 5 above using **FOR** Statement"
   ]
  },
  {
   "cell_type": "code",
   "execution_count": 11,
   "metadata": {
    "colab": {
     "base_uri": "https://localhost:8080/",
     "height": 82
    },
    "colab_type": "code",
    "id": "rInF0AgvnwMp",
    "outputId": "a3559bbb-0031-49b6-e696-604ade31895c"
   },
   "outputs": [
    {
     "name": "stdout",
     "output_type": "stream",
     "text": [
      "0\n",
      "1\n",
      "2\n",
      "3\n"
     ]
    }
   ],
   "source": [
    "'''Another example utilizing while loops\n",
    "This program starts printing from i's current value (1), \n",
    "and continues printing until it reaches 3 where it stops\n",
    "'''\n",
    "i = 0\n",
    "while i < 6:\n",
    "    print(i)\n",
    "    if i == 3:\n",
    "        break\n",
    "    i = i + 1"
   ]
  },
  {
   "cell_type": "markdown",
   "metadata": {
    "colab_type": "text",
    "id": "GPgjxxpzOEAs"
   },
   "source": [
    "### List, Tuple, Dictionary\n",
    "More data types/Structure and their attributes"
   ]
  },
  {
   "cell_type": "markdown",
   "metadata": {
    "colab_type": "text",
    "id": "SebxCTd5Poxk"
   },
   "source": [
    "\n",
    "- List\n",
    " - Ordered\n",
    " - Changeable\n",
    " - Indexed\n",
    " - Can have duplicate members\n",
    " - my_list = [3, 4, 2, 6, 5, 3, 3, 9]\n",
    " - my_list2 = list((4, 4, 2, 5, 7))\n",
    "- Tuple : Tuple is a collection which is ordered and unchangeable. Allows duplicate members.\n",
    " - Ordered\n",
    " - Unchangeable\n",
    " - Indexed\n",
    " - Can also have duplicate members\n",
    " - fruits = ('Mango', 'Grape', 'Pear')\n",
    " - fruits2 = tuple(('Coconut', 'Cashew', 'Cucumber'))\n",
    "- Set : Set is a collection which is unordered and unindexed. No duplicate members.\n",
    " - Unordered\n",
    " - Unindexed\n",
    " - No duplicate members\n",
    " - Cars = {'Mercedes', 'Toyota', 'Honda'}\n",
    " - Cars2 = set(('Kia', 'Ford', 'Fiat'))\n",
    "- Dictionaries : Dictionary is a collection items which are unordered, changeable and indexed. No duplicate members. Dictionary has a key: value pair\n",
    " - Unordered\n",
    " - Changeable\n",
    " - Indexed\n",
    " - Has keys and values\n",
    " - my_car = {\"brand\": \"Honda\", \"model\": \"EOD\", \"year\": 2010}"
   ]
  },
  {
   "cell_type": "code",
   "execution_count": 12,
   "metadata": {
    "colab": {},
    "colab_type": "code",
    "id": "_84oNxH1SJmM"
   },
   "outputs": [],
   "source": [
    "#List\n",
    "my_list = ['pot', 'kettle', 'spoon', 'plate']\n",
    "my_list2 = list(('pot', 'kettle', 'spoon', 'plate'))\n",
    "\n",
    "#Tuple\n",
    "fruits = ('mango', 'apple', 'orange')\n",
    "fruits2 = tuple(('mango', 'apple', 'orange'))\n",
    "\n",
    "#Set\n",
    "cars = {'mercedes', 'toyota', 'ford'}\n",
    "cars2 = set('mercedes')\n",
    "\n",
    "#Dictionary\n",
    "my_dict = {'name': 'John', 1: [2, 4, 3]} # dictionary with mixed keys\n",
    "thisdict = {\"brand\": \"Toyota\", \"model\": \"Avalon\", \"year\": 2017}"
   ]
  },
  {
   "cell_type": "markdown",
   "metadata": {
    "colab_type": "text",
    "id": "_kRddibyOpMh"
   },
   "source": [
    "### List\n",
    "\n"
   ]
  },
  {
   "cell_type": "markdown",
   "metadata": {
    "colab_type": "text",
    "id": "MnqkCPuBRGHJ"
   },
   "source": [
    "Using a for loop, find the average of the following numbers:\n",
    "\n",
    "1, 2, 3, 4, 5, 6, 7, 7"
   ]
  },
  {
   "cell_type": "code",
   "execution_count": 13,
   "metadata": {
    "colab": {
     "base_uri": "https://localhost:8080/",
     "height": 33
    },
    "colab_type": "code",
    "id": "KGSRUOgGBf7w",
    "outputId": "cbe21800-cf3e-4a95-88d5-4909f2b47de5"
   },
   "outputs": [
    {
     "name": "stdout",
     "output_type": "stream",
     "text": [
      "The average of the sum of 1, 2, 3, 4, 5, 6, 7, 7 using loop is  4.375\n"
     ]
    }
   ],
   "source": [
    "# Solution 2 from the Class Activity\n",
    "numbers = [1, 2, 3, 4, 5, 6, 7, 7] # or list((1, 2, 3, 4, 5, 6, 7, 7))\n",
    "numbers_sum = 0  \n",
    "length_of_list = 0\n",
    "for i in numbers:\n",
    "    numbers_sum = numbers_sum + i  # At the first iteration, numbers_sum = 0 + 1\n",
    "    length_of_list = length_of_list + 1\n",
    "average = numbers_sum / length_of_list\n",
    "print('The average of the sum of 1, 2, 3, 4, 5, 6, 7, 7 using loop is ', average)"
   ]
  },
  {
   "cell_type": "markdown",
   "metadata": {
    "colab_type": "text",
    "id": "N2NZsizVs5KH"
   },
   "source": [
    "### List Operations"
   ]
  },
  {
   "cell_type": "code",
   "execution_count": 14,
   "metadata": {
    "colab": {},
    "colab_type": "code",
    "id": "C16Pv1zPnwML"
   },
   "outputs": [],
   "source": [
    "a = list((1, 2, 3, 4, 5, 6, 7, 8, 9, 10))"
   ]
  },
  {
   "cell_type": "code",
   "execution_count": 15,
   "metadata": {
    "colab": {
     "base_uri": "https://localhost:8080/",
     "height": 180
    },
    "colab_type": "code",
    "id": "F0HlUB19nwMO",
    "outputId": "da73fc01-18c1-416a-f796-1ac8318dcda2"
   },
   "outputs": [
    {
     "name": "stdout",
     "output_type": "stream",
     "text": [
      "True\n",
      "False\n",
      "True\n",
      "False\n",
      "True\n",
      "False\n",
      "True\n",
      "False\n",
      "True\n",
      "False\n"
     ]
    }
   ],
   "source": [
    "for vj in a:\n",
    "    print(vj%2 == 1)"
   ]
  },
  {
   "cell_type": "code",
   "execution_count": 16,
   "metadata": {
    "colab": {
     "base_uri": "https://localhost:8080/",
     "height": 98
    },
    "colab_type": "code",
    "id": "7Xi_0Y_BR0vK",
    "outputId": "4c751f6d-cd64-4cab-e852-40b89cf0a404"
   },
   "outputs": [
    {
     "name": "stdout",
     "output_type": "stream",
     "text": [
      "1\n",
      "3\n",
      "5\n",
      "7\n",
      "9\n"
     ]
    }
   ],
   "source": [
    "for vj in a:\n",
    "    if vj%2 == 1:\n",
    "        print(vj)\n",
    "    \n"
   ]
  },
  {
   "cell_type": "code",
   "execution_count": 17,
   "metadata": {
    "colab": {},
    "colab_type": "code",
    "id": "SVrcJ_IEs5t6"
   },
   "outputs": [
    {
     "name": "stdout",
     "output_type": "stream",
     "text": [
      "3rd and 4th elements using positive index [6, 'Ope'] \n",
      "\n",
      "3rd and 4th elements using negative index ['Ope', 8]\n",
      "[2, 'Clement', 6, 'Ope', 8, 'Ayo', 'Ayo', 'Peace', 14]\n",
      "True\n",
      "True\n",
      "False\n",
      "False\n"
     ]
    }
   ],
   "source": [
    "A = [2, 'Clement', 6, 'Ope', 8, 'Ayo']\n",
    "\n",
    "#Accessing the 3rd and 4th elements of list using their index.\n",
    "print ('3rd and 4th elements using positive index', A[2:4],  '\\n')\n",
    "\n",
    "#Negative indices can also bde specified\n",
    "print ( '3rd and 4th elements using negative index', A[-3:-1]) #this produces a list\n",
    "\n",
    "\n",
    "#list concatenation\n",
    "print(A + ['Ayo', 'Peace', 14])\n",
    "\n",
    "#The in and not in operators:\n",
    "print('Ope'in A)\n",
    "\n",
    "print('Abebe' not in A)\n",
    "\n",
    "print(2.45 in A)\n",
    "\n",
    "print ('y' in A)"
   ]
  },
  {
   "cell_type": "markdown",
   "metadata": {
    "colab_type": "text",
    "id": "N24LYB9jQOx4"
   },
   "source": [
    "### List Methods\n",
    "\n",
    "As we have in string methods, a list  data type can be also be used with the list methods some of which are:"
   ]
  },
  {
   "cell_type": "code",
   "execution_count": 18,
   "metadata": {
    "colab": {},
    "colab_type": "code",
    "id": "Y73R35yinwL0",
    "outputId": "b266070f-2fbb-4d05-e208-d0e37c70e4cb"
   },
   "outputs": [
    {
     "name": "stdout",
     "output_type": "stream",
     "text": [
      "['pot', 'kettle', 'spoon', 'plate', 'knife']\n",
      "['pot', 'kettle', 'spoon', 'plate', 'knife', 'fork', 'flask', 'file']\n",
      "['pot', 'kettle', 'spoon', 'plate', 'knife', 'fork', 'flask', 'file'] ['pot', 'kettle', 'spoon', 'plate', 'knife', 'fork', 'flask', 'file']\n",
      "['pot', 'kettle', 'spoon', 'plate', 'knife', 'fork', 'flask', 'file'] 1\n",
      "['pot', 'kettle', 'spoon', 'plate', 'knife', 'fork', 'flask', 'file'] 1\n",
      "['pot', 'kettle', 'spoon', 'Yam', 'plate', 'knife', 'fork', 'flask', 'file']\n",
      "['pot', 'kettle', 'spoon', 'plate', 'knife', 'fork', 'flask', 'file']\n",
      "['pot', 'kettle', 'spoon', 'plate', 'knife', 'flask', 'file']\n",
      "['file', 'flask', 'knife', 'plate', 'spoon', 'kettle', 'pot']\n",
      "['file', 'flask', 'kettle', 'knife', 'plate', 'pot', 'spoon']\n",
      "[]\n"
     ]
    }
   ],
   "source": [
    "#METHODS\n",
    "\n",
    "my_list = ['pot', 'kettle', 'spoon', 'plate']\n",
    "\n",
    "# append: to add a new item to the end of the list\n",
    "my_list.append('knife')\n",
    "print(my_list)\n",
    "\n",
    "# extend: Add the elements of a list, to the end of the current list. \n",
    "# Unlike .append(), .extend() will unpack the  new list and add its element each to the existing one \n",
    "my_list.extend(['fork', 'flask', 'file'])\n",
    "print(my_list)\n",
    "\n",
    "# copy: Returns a copy of the list\n",
    "my_list3 = my_list.copy()\n",
    "print(my_list, my_list3)\n",
    "\n",
    "# count: Returns the number of elements with the specified value\n",
    "knife_count = my_list.count('knife')\n",
    "print(my_list, knife_count)\n",
    "\n",
    "# index: Returns the index of the first element with the specified value\n",
    "x = my_list.index('kettle')\n",
    "print(my_list, x)\n",
    "\n",
    "# insert: Adds an element at the specified position\n",
    "my_list.insert(3, 'Yam')\n",
    "print(my_list)\n",
    "\n",
    "# pop: Removes the element at the specified position or the last item if no position is given\n",
    "my_list.pop(3)\n",
    "print(my_list)\n",
    "\n",
    "# remove: Removes the first item with the specified value\n",
    "my_list.remove('fork')\n",
    "print(my_list)\n",
    "\n",
    "# reverse: Reverses the order of the list\n",
    "my_list.reverse()\n",
    "print(my_list)\n",
    "\n",
    "# sort: Sorts the list\n",
    "my_list.sort()\n",
    "print(my_list)\n",
    "\n",
    "# clear: to remove all the elements from the list\n",
    "my_list.clear()\n",
    "print(my_list)"
   ]
  },
  {
   "cell_type": "markdown",
   "metadata": {
    "colab_type": "text",
    "id": "PxWUJwQ0tWHW"
   },
   "source": [
    "### List Comprehensions\n",
    "List comprehensions provide a concise way to create lists. Common applications are to make new lists where each element is the result of some operations applied to each member of another sequence or iterable, or to create a subsequence of those elements that satisfy a certain condition."
   ]
  },
  {
   "cell_type": "code",
   "execution_count": 19,
   "metadata": {
    "colab": {
     "base_uri": "https://localhost:8080/",
     "height": 50
    },
    "colab_type": "code",
    "id": "6c-aEsg2tV1E",
    "outputId": "d7768388-290a-49f2-9d71-50d3b3badd3a"
   },
   "outputs": [
    {
     "name": "stdout",
     "output_type": "stream",
     "text": [
      "output using for [0, 1, 4, 9, 16]\n",
      "output using list comprehension [0, 1, 4, 9, 16]\n"
     ]
    }
   ],
   "source": [
    "#To create a list of sum of squares\n",
    "\n",
    "sum = []\n",
    "for x in range(5):\n",
    "    sum.append(x**2)\n",
    "print('output using for', sum)\n",
    "\n",
    "#The same could be written as a lis95t comprehension\n",
    "sum = [x**2 for x in range(5)]\n",
    "print ('output using list comprehension', sum)"
   ]
  },
  {
   "cell_type": "code",
   "execution_count": 20,
   "metadata": {
    "colab": {
     "base_uri": "https://localhost:8080/",
     "height": 50
    },
    "colab_type": "code",
    "id": "3r00RxzqtluG",
    "outputId": "0d74103f-67a2-4a7c-dbf7-1829e33688ee"
   },
   "outputs": [
    {
     "name": "stdout",
     "output_type": "stream",
     "text": [
      "output using for [(0, 0), (1, 1), (2, 4), (3, 9), (4, 16), (5, 25)]\n",
      "output using list comprehension [(0, 0), (1, 1), (2, 4), (3, 9), (4, 16), (5, 25)]\n"
     ]
    }
   ],
   "source": [
    "#Using for statement to print a number and its square as coordinates\n",
    "\n",
    "result= []\n",
    "for x in range(6):\n",
    "    result.append((x,x**2))\n",
    "print('output using for', result)\n",
    "\n",
    "#With list comprehension\n",
    "\n",
    "print('output using list comprehension', [(x, x**2) for x in range(6)])"
   ]
  },
  {
   "cell_type": "markdown",
   "metadata": {
    "colab_type": "text",
    "id": "dBrmF-7gnwL4"
   },
   "source": [
    "### Tuple\n",
    "\n",
    "A list of methods that can be used with the tuple data type includes:"
   ]
  },
  {
   "cell_type": "code",
   "execution_count": 21,
   "metadata": {
    "colab": {},
    "colab_type": "code",
    "id": "Bujl_ltJnwL5"
   },
   "outputs": [
    {
     "name": "stdout",
     "output_type": "stream",
     "text": [
      "('mango', 'apple', 'orange', 'grape', 'pear') 1\n",
      "('mango', 'apple', 'orange', 'grape', 'pear') 2\n"
     ]
    }
   ],
   "source": [
    "fruits = ('mango', 'apple', 'orange', 'grape', 'pear')\n",
    "\n",
    "# count: Returns the number of times a specified value occurs in a tuple\n",
    "x = fruits.count('apple')\n",
    "print(fruits, x)\n",
    "\n",
    "# index: Searches the tuple for a specified value and returns the position of where it was found\n",
    "y = fruits.index('orange')\n",
    "print(fruits, y)"
   ]
  },
  {
   "cell_type": "markdown",
   "metadata": {
    "colab_type": "text",
    "id": "dWCbH_FunwL8"
   },
   "source": [
    "### Set\n",
    "A list of methods that can be used with the set data type"
   ]
  },
  {
   "cell_type": "code",
   "execution_count": 22,
   "metadata": {
    "colab": {},
    "colab_type": "code",
    "id": "YhiGOdD8nwL9",
    "outputId": "d0e46753-1ff1-4318-d572-8fa373bc1fec"
   },
   "outputs": [
    {
     "name": "stdout",
     "output_type": "stream",
     "text": [
      "{'Hyundai', 'ford', 'mercedes', 'toyota', 'Porsche'}\n",
      "{'Hyundai', 'ford', 'mercedes', 'toyota', 'Porsche'} {'mercedes', 'Hyundai', 'toyota', 'ford', 'Porsche'}\n",
      "{'Hyundai', 'ford', 'mercedes', 'toyota', 'Porsche'} {'mercedes', 'Nissan', 'Jaguar'} {'Hyundai', 'toyota', 'ford', 'Porsche'}\n",
      "{'Hyundai', 'ford', 'toyota', 'Porsche'} {'mercedes', 'Nissan', 'Jaguar'}\n",
      "{'mercedes', 'Jaguar'}\n",
      "{'Hyundai', 'ford', 'toyota', 'Porsche'} {'mercedes', 'Jaguar'} set()\n",
      "{'mercedes'} {'mercedes', 'Jaguar'}\n",
      "{'Hyundai', 'ford', 'toyota', 'Porsche'} {'mercedes', 'Jaguar'} True\n",
      "{'b', 'a', 'c'} {'a', 'b', 'e', 'd', 'f', 'c'} True\n",
      "{'b', 'a', 'c'} {'a', 'b', 'e', 'd', 'f', 'c'} True\n",
      "{'b', 'e', 'd', 'f', 'c'}\n",
      "{'b', 'e', 'd', 'f'}\n",
      "{'Hyundai', 'ford', 'toyota', 'Porsche'} {'mercedes', 'Jaguar'} {'Jaguar', 'Hyundai', 'ford', 'mercedes', 'toyota', 'Porsche'}\n",
      "{'Jaguar', 'Hyundai', 'ford', 'mercedes', 'toyota', 'Porsche'}\n",
      "{'Jaguar', 'Hyundai', 'ford', 'mercedes', 'toyota', 'Porsche'} {'mercedes', 'Jaguar'} {'mercedes', 'Jaguar', 'Hyundai', 'toyota', 'ford', 'Porsche'}\n",
      "{'Jaguar', 'Hyundai', 'ford', 'mercedes', 'toyota', 'Porsche'} {'mercedes', 'Jaguar'}\n",
      "set()\n"
     ]
    }
   ],
   "source": [
    "cars = {'mercedes', 'toyota', 'ford', 'Porsche'}\n",
    "cars2 = {'mercedes', 'Nissan', 'Jaguar'}\n",
    "# add: Adds an element to the set\n",
    "cars.add('Hyundai')\n",
    "print(cars)\n",
    "\n",
    "# copy: Returns a copy of the set\n",
    "cars_copy = cars.copy()\n",
    "print(cars, cars_copy)\n",
    "\n",
    "# difference: Returns a set containing the difference between two or more sets\n",
    "car_diff = cars.difference(cars2)\n",
    "print(cars, cars2, car_diff)\n",
    "\n",
    "# difference_update: Removes the items in this set that are also included in another, specified set\n",
    "cars.difference_update(cars2)\n",
    "print(cars, cars2)\n",
    "\n",
    "# discard: Remove the specified item\n",
    "cars2.discard('Nissan')\n",
    "print(cars2)\n",
    "\n",
    "# intersection: Returns a set, that is the intersection of two other sets\n",
    "cars_intersect = cars.intersection(cars2)\n",
    "print(cars, cars2, cars_intersect)\n",
    "\n",
    "# intersection_update: Removes the items in this set that are not present in other, specified set(s)\n",
    "cars_copy.intersection_update(cars2)\n",
    "print(cars_copy, cars2)\n",
    "\n",
    "# isdisjoint: Returns whether two sets have a intersection or not\n",
    "disj = cars.isdisjoint(cars2)\n",
    "print(cars, cars2, disj)\n",
    "\n",
    "# issubset: Returns whether another set contains this set or not\n",
    "x = {'a', 'b', 'c'}\n",
    "y = {'a', 'b', 'c', 'd', 'e', 'f'}\n",
    "z = x.issubset(y)\n",
    "print(x, y, z)\n",
    "\n",
    "# issuperset: Returns whether this set contains another set or not\n",
    "z = y.issuperset(x)\n",
    "print(x, y, z)\n",
    "\n",
    "# pop: Removes an element from the set\n",
    "y.pop()\n",
    "print(y)\n",
    "\n",
    "# remove: Removes the specified element\n",
    "y.remove('c')\n",
    "print(y)\n",
    "\n",
    "# symmetric_difference: Returns a set with the symmetric differences of two sets\n",
    "sym_diff = cars.symmetric_difference(cars2)\n",
    "print(cars, cars2, sym_diff)\n",
    "\n",
    "# symmetric_difference_update: inserts the symmetric differences from this set and another\n",
    "cars.symmetric_difference_update(cars2)\n",
    "print(cars)\n",
    "\n",
    "# union: Return a set containing the union of sets\n",
    "bigcars = cars.union(cars2)\n",
    "print(cars, cars2, bigcars)\n",
    "\n",
    "# update: Update the set with the union of this set and others\n",
    "cars.update(cars2)\n",
    "print(cars, cars2)\n",
    "\n",
    "# clear: Removes all the elements from the set\n",
    "cars.clear()\n",
    "print(cars)"
   ]
  },
  {
   "cell_type": "markdown",
   "metadata": {
    "colab_type": "text",
    "id": "tCFDhuDsnwMB"
   },
   "source": [
    "### Dictionary\n",
    "\n",
    "A list of methods that can be used with the dictionary data type"
   ]
  },
  {
   "cell_type": "code",
   "execution_count": 23,
   "metadata": {
    "colab": {
     "base_uri": "https://localhost:8080/",
     "height": 228
    },
    "colab_type": "code",
    "id": "itKOe47HnwMD",
    "outputId": "afe1e353-9335-4ccd-b7f6-243eff512cff"
   },
   "outputs": [
    {
     "name": "stdout",
     "output_type": "stream",
     "text": [
      "{'key1': 0, 'key2': 0, 'key3': 0}\n",
      "{'brand': 'Toyota', 'model': 'Avalon', 'year': 2017} Avalon Avalon\n"
     ]
    }
   ],
   "source": [
    "thisdict = {\"brand\": \"Toyota\", \"model\": \"Avalon\", \"year\": 2017}\n",
    "\n",
    "# fromkeys: returns a dictionary with the specified keys and values\n",
    "x = ('key1', 'key2', 'key3')\n",
    "y = (0)       #All the keys will have the same value 0\n",
    "new_dict = dict.fromkeys(x, y)\n",
    "print(new_dict)\n",
    "\n",
    "# get: Returns the value of the specified key, if value is not fount, it returns NONE\n",
    "a = thisdict.get('model')\n",
    "\n",
    "# same output can be gotten from but if value is not found, it returns error\n",
    "b = thisdict['model']\n",
    "print(thisdict, a, b)\n",
    "\n"
   ]
  },
  {
   "cell_type": "code",
   "execution_count": 24,
   "metadata": {
    "colab": {
     "base_uri": "https://localhost:8080/",
     "height": 196
    },
    "colab_type": "code",
    "id": "oAr9N6fAmuBm",
    "outputId": "081e5096-9f21-4e47-dcc7-dd959bab63e0"
   },
   "outputs": [
    {
     "name": "stdout",
     "output_type": "stream",
     "text": [
      "{'brand': 'Toyota', 'model': 'Avalon', 'year': 2017} {'brand': 'Toyota', 'model': 'Avalon', 'year': 2017}\n",
      "Dictionary {'brand': 'Toyota', 'model': 'Avalon', 'year': 2017} items are :  dict_items([('brand', 'Toyota'), ('model', 'Avalon'), ('year', 2017)])\n",
      "{'brand': 'Toyota', 'model': 'Avalon', 'year': 2017} dict_keys(['brand', 'model', 'year'])\n",
      "{'brand': 'Toyota', 'model': 'Avalon', 'year': 2017} dict_values(['Toyota', 'Avalon', 2017])\n",
      "{'brand': 'Toyota', 'model': 'Avalon', 'year': 2017}\n",
      "{'brand': 'Toyota', 'year': 2017}\n",
      "{'brand': 'Toyota'} ('year', 2017)\n",
      "{'brand': 'Toyota', 'model': 'Camry'} Camry\n",
      "{'brand': 'Toyota', 'model': 'Avalon', 'year': 2017, 'color': 'white'}\n",
      "{'brand': 'Toyota', 'model': 'Avalon', 'year': 2017, 'color': 'white'} dict_values(['Toyota', 'Avalon', 2017, 'white'])\n",
      "{}\n"
     ]
    }
   ],
   "source": [
    "# copy: Returns a copy of the dictionary\n",
    "new_dict = thisdict.copy()\n",
    "print(thisdict, new_dict)\n",
    "\n",
    "# items: Returns a list containing a tuple for each key value pair\n",
    "a = thisdict.items()\n",
    "print('Dictionary', thisdict, 'items are : ', a)\n",
    "\n",
    "# keys: Returns a list containing the dictionary's keys\n",
    "a = thisdict.keys()\n",
    "print(thisdict, a)\n",
    "\n",
    "a = thisdict.values()\n",
    "print(thisdict, a)\n",
    "\n",
    "# pop: Removes the element with the specified key\n",
    "print(new_dict)\n",
    "new_dict.pop('model')\n",
    "print(new_dict)\n",
    "\n",
    "# popitem: Removes the last inserted key-value pair\n",
    "c = new_dict.popitem()\n",
    "print(new_dict, c)\n",
    "\n",
    "# setdefault: Returns the value of the specified key. If the key does not exist: insert the key, with the specified value\n",
    "x = new_dict.setdefault('model', 'Camry')\n",
    "print(new_dict, x)\n",
    "\n",
    "# update: Updates the dictionary with the specified key-value pairs\n",
    "thisdict.update({'color': 'white'})\n",
    "print(thisdict)\n",
    "\n",
    "# values: Returns a list of all the values in the dictionary\n",
    "x = thisdict.values()\n",
    "print(thisdict, x)\n",
    "\n",
    "# clear: to remove all the elements from the dictionary\n",
    "new_dict.clear()\n",
    "print(new_dict)"
   ]
  },
  {
   "cell_type": "markdown",
   "metadata": {
    "colab_type": "text",
    "id": "MnisykILSJ9p"
   },
   "source": [
    "### Homework\n",
    "\n",
    "- Given a list of movies, write a movie ticket program that allows people aged 1-3 and 65+ free access and a complementary box of popcorn, 4-15 get 50% discount if with a student id and 25% discount without a student id, others (16 - 64) pay full fee. Everyone gets 10% off their respective fees and a bottle of coke free for movies showing on Monday morning.\n",
    "\n",
    "- Write a program that prints all the numbers from 0 to 6 except 3 and 6\n",
    "- Write a Python program to guess a number between 1 to 9.\n",
    " - Note : User is prompted to enter a guess. If the user guesses wrong then the prompt appears again until the guess is correct, on successful guess, user will get a \"Well guessed!\" message, and the program will exit.\n",
    " - Hint: \n",
    "   - import random \n",
    "   - hidden_number = random.randint(1, 10) \n",
    "   - guess_num = 0 \n",
    "   - while (your condition statement here):\n",
    "      (more code here)\n",
    "   - print('Well guessed!')\n",
    "\n",
    "*Given that:*\n",
    "\n",
    "A = [5, 8, 15, 7, 3]\n",
    "\n",
    "- Write a Python program to sum all the items in A\n",
    "\n",
    "*Given that* \n",
    "\n",
    "Months = ['January', 'February', 'AYO', 'March', 'April', 'May', 'June', 'July','August', 'September', 'October', 'November']\n",
    "\n",
    "-  Write a Python program to\n",
    "Get Months sorted in ascending order\n",
    "Add 'December' to months\n",
    "remove/delete 'AYO' from months\n",
    "\n",
    "\n",
    "- "
   ]
  }
 ],
 "metadata": {
  "colab": {
   "collapsed_sections": [],
   "name": "SAP DAY2.ipynb",
   "provenance": [],
   "toc_visible": true
  },
  "kernelspec": {
   "display_name": "Python 3",
   "language": "python",
   "name": "python3"
  },
  "language_info": {
   "codemirror_mode": {
    "name": "ipython",
    "version": 3
   },
   "file_extension": ".py",
   "mimetype": "text/x-python",
   "name": "python",
   "nbconvert_exporter": "python",
   "pygments_lexer": "ipython3",
   "version": "3.7.7"
  }
 },
 "nbformat": 4,
 "nbformat_minor": 1
}
